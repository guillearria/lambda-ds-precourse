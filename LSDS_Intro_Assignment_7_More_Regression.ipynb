{
  "nbformat": 4,
  "nbformat_minor": 0,
  "metadata": {
    "colab": {
      "name": "Copy of LSDS Intro Assignment 7 - More Regression.ipynb",
      "version": "0.3.2",
      "provenance": [],
      "collapsed_sections": [],
      "include_colab_link": true
    },
    "kernelspec": {
      "display_name": "Python 3",
      "language": "python",
      "name": "python3"
    }
  },
  "cells": [
    {
      "cell_type": "markdown",
      "metadata": {
        "id": "view-in-github",
        "colab_type": "text"
      },
      "source": [
        "<a href=\"https://colab.research.google.com/github/sapinspys/lambda-ds-precourse/blob/master/LSDS_Intro_Assignment_7_More_Regression.ipynb\" target=\"_parent\"><img src=\"https://colab.research.google.com/assets/colab-badge.svg\" alt=\"Open In Colab\"/></a>"
      ]
    },
    {
      "cell_type": "markdown",
      "metadata": {
        "id": "T9H4rAOJmyXO",
        "colab_type": "text"
      },
      "source": [
        "# Lambda School, Intro to Data Science, Day 7 — More Regression!\n",
        "\n",
        "## Assignment\n",
        "\n",
        "### 1. Experiment with Nearest Neighbor parameter\n",
        "\n",
        "Using the same 10 training data points from the lesson, train a `KNeighborsRegressor` model with `n_neighbors=1`.\n",
        "\n",
        "Use both `carat` and `cut` features.\n",
        "\n",
        "Calculate the mean absolute error on the training data and on the test data."
      ]
    },
    {
      "cell_type": "code",
      "metadata": {
        "id": "CKsxHHzmmyXP",
        "colab_type": "code",
        "colab": {}
      },
      "source": [
        "%matplotlib inline\n",
        "import matplotlib.pyplot as plt\n",
        "import pandas as pd\n",
        "from sklearn.neighbors import KNeighborsRegressor\n",
        "from sklearn.metrics import mean_absolute_error\n",
        "\n",
        "columns = ['carat', 'cut', 'price']\n",
        "\n",
        "train = pd.DataFrame(columns=columns, \n",
        "        data=[[0.3, 'Ideal', 422],\n",
        "        [0.31, 'Ideal', 489],\n",
        "        [0.42, 'Premium', 737],\n",
        "        [0.5, 'Ideal', 1415],\n",
        "        [0.51, 'Premium', 1177],\n",
        "        [0.7, 'Fair', 1865],\n",
        "        [0.73, 'Fair', 2351],\n",
        "        [1.01, 'Good', 3768],\n",
        "        [1.18, 'Very Good', 3965],\n",
        "        [1.18, 'Ideal', 4838]])\n",
        "\n",
        "test  = pd.DataFrame(columns=columns, \n",
        "        data=[[0.3, 'Ideal', 432],\n",
        "        [0.34, 'Ideal', 687],\n",
        "        [0.37, 'Premium', 1124],\n",
        "        [0.4, 'Good', 720],\n",
        "        [0.51, 'Ideal', 1397],\n",
        "        [0.51, 'Very Good', 1284],\n",
        "        [0.59, 'Ideal', 1437],\n",
        "        [0.7, 'Ideal', 3419],\n",
        "        [0.9, 'Premium', 3484],\n",
        "        [0.9, 'Fair', 2964]])\n",
        "\n",
        "cut_ranks = {'Fair': 1, 'Good': 2, 'Very Good': 3, 'Premium': 4, 'Ideal': 5}\n",
        "train.cut = train.cut.map(cut_ranks)\n",
        "test.cut = test.cut.map(cut_ranks)"
      ],
      "execution_count": 0,
      "outputs": []
    },
    {
      "cell_type": "code",
      "metadata": {
        "id": "4MrRasT_myXT",
        "colab_type": "code",
        "outputId": "32c276ef-ed05-4109-87b9-4b2d044abd61",
        "colab": {
          "base_uri": "https://localhost:8080/",
          "height": 67
        }
      },
      "source": [
        "features = ['carat', 'cut']\n",
        "target = 'price'\n",
        "\n",
        "from sklearn.neighbors import KNeighborsRegressor\n",
        "\n",
        "model = KNeighborsRegressor(n_neighbors=1)\n",
        "model.fit(train[features], train[target])"
      ],
      "execution_count": 108,
      "outputs": [
        {
          "output_type": "execute_result",
          "data": {
            "text/plain": [
              "KNeighborsRegressor(algorithm='auto', leaf_size=30, metric='minkowski',\n",
              "                    metric_params=None, n_jobs=None, n_neighbors=1, p=2,\n",
              "                    weights='uniform')"
            ]
          },
          "metadata": {
            "tags": []
          },
          "execution_count": 108
        }
      ]
    },
    {
      "cell_type": "code",
      "metadata": {
        "id": "gGLj_kaMw_LE",
        "colab_type": "code",
        "outputId": "1a969da0-811a-46b3-de9c-85a4f70aba0a",
        "colab": {
          "base_uri": "https://localhost:8080/",
          "height": 33
        }
      },
      "source": [
        "model.predict([[0.9, 1]])"
      ],
      "execution_count": 109,
      "outputs": [
        {
          "output_type": "execute_result",
          "data": {
            "text/plain": [
              "array([2351.])"
            ]
          },
          "metadata": {
            "tags": []
          },
          "execution_count": 109
        }
      ]
    },
    {
      "cell_type": "code",
      "metadata": {
        "id": "qbADHrrHxdRY",
        "colab_type": "code",
        "outputId": "8ea61222-360a-44a7-8afa-75c797f46415",
        "colab": {
          "base_uri": "https://localhost:8080/",
          "height": 100
        }
      },
      "source": [
        "from sklearn.metrics import mean_absolute_error\n",
        "\n",
        "# Calculated mean absolute error on training data\n",
        "y_true = train[target]\n",
        "y_predicted = model.predict(train[features])\n",
        "train_error = mean_absolute_error(y_true, y_predicted)\n",
        "\n",
        "# Calculated mean absolute error on test data\n",
        "y_true = test[target]\n",
        "y_predicted = model.predict(test[features])\n",
        "test_error = mean_absolute_error(y_true, y_predicted)\n",
        "\n",
        "print('Train Error: $', round(train_error))\n",
        "print('Test Error: $', round(test_error), '\\n')\n",
        "\n",
        "print('Lesson Train Error: $', round(210))\n",
        "print('Lesson Test Error: $', round(296))"
      ],
      "execution_count": 110,
      "outputs": [
        {
          "output_type": "stream",
          "text": [
            "Train Error: $ 0.0\n",
            "Test Error: $ 1129.0 \n",
            "\n",
            "Lesson Train Error: $ 210\n",
            "Lesson Test Error: $ 296\n"
          ],
          "name": "stdout"
        }
      ]
    },
    {
      "cell_type": "markdown",
      "metadata": {
        "id": "NQQveVK9myXV",
        "colab_type": "text"
      },
      "source": [
        "How does the train error and test error compare to the previous `KNeighborsRegressor` model from the lesson? (The previous model used `n_neighbors=2` and only the `carat` feature.)\n",
        "\n",
        "Is this new model overfitting or underfitting? Why do you think this is happening here? \n",
        "\n"
      ]
    },
    {
      "cell_type": "markdown",
      "metadata": {
        "id": "0PDhjzVe1u98",
        "colab_type": "text"
      },
      "source": [
        "## Answer:\n",
        "### This new model is OVERFITTING because train error = 0!\n",
        "\n",
        "Our model predicts price from the original data with perfect accuracy but it doesn't predict price accurately using the test data. This gap in accuracy is an obvious red flag that our new model doesn't generalize well to unseen data and it is most likely that the model created erroneous relationships after including the \"cut\" feature.\n"
      ]
    },
    {
      "cell_type": "markdown",
      "metadata": {
        "id": "zQJDW1-QmyXW",
        "colab_type": "text"
      },
      "source": [
        "### 2. More data, two features, linear regression\n",
        "\n",
        "Use the following code to load data for diamonds under $5,000, and split the data into train and test sets. The training data has almost 30,000 rows, and the test data has almost 10,000 rows."
      ]
    },
    {
      "cell_type": "code",
      "metadata": {
        "id": "IDXEn8lvmyXW",
        "colab_type": "code",
        "outputId": "116983b4-558a-468a-81ab-e957236e1fde",
        "colab": {
          "base_uri": "https://localhost:8080/",
          "height": 150
        }
      },
      "source": [
        "import seaborn as sns\n",
        "from sklearn.linear_model import LinearRegression\n",
        "from sklearn.model_selection import train_test_split\n",
        "\n",
        "df = sns.load_dataset('diamonds')\n",
        "df = df[df.price < 5000]\n",
        "train, test = train_test_split(df.copy(), random_state=0)\n",
        "\n",
        "# Encoding ordinal variables\n",
        "cut_ranks = {'Fair': 1, 'Good': 2, 'Very Good': 3, 'Premium': 4, 'Ideal': 5}\n",
        "train.cut = train.cut.map(cut_ranks)\n",
        "test.cut = test.cut.map(cut_ranks)\n",
        "\n",
        "train.shape, test.shape, train.head()"
      ],
      "execution_count": 111,
      "outputs": [
        {
          "output_type": "execute_result",
          "data": {
            "text/plain": [
              "((29409, 10),\n",
              " (9804, 10),\n",
              "        carat  cut color clarity  depth  table  price     x     y     z\n",
              " 43601   0.31    3     E     SI1   61.2   58.0    507  4.34  4.38  2.67\n",
              " 52706   0.74    1     H     VS2   66.1   61.0   2553  5.60  5.57  3.69\n",
              " 1986    0.81    3     G     SI1   62.3   59.0   3095  5.93  5.98  3.71\n",
              " 48617   0.70    1     G     SI2   61.5   66.0   1999  5.55  5.60  3.43\n",
              " 10947   0.87    5     G     VS2   61.8   56.0   4899  6.11  6.13  3.78)"
            ]
          },
          "metadata": {
            "tags": []
          },
          "execution_count": 111
        }
      ]
    },
    {
      "cell_type": "markdown",
      "metadata": {
        "id": "1VZ7PH6nmyXZ",
        "colab_type": "text"
      },
      "source": [
        "Then, train a Linear Regression model with the `carat` and `cut` features. Calculate the mean absolute error on the training data and on the test data."
      ]
    },
    {
      "cell_type": "code",
      "metadata": {
        "id": "XCTsEqZtmyXZ",
        "colab_type": "code",
        "colab": {
          "base_uri": "https://localhost:8080/",
          "height": 53
        },
        "outputId": "baeb1f84-077b-4782-d5cd-0a96fb8afec1"
      },
      "source": [
        "features = [\"carat\", \"cut\"]\n",
        "target = \"price\"\n",
        "\n",
        "model = LinearRegression()\n",
        "model.fit(train[features], train[target])"
      ],
      "execution_count": 112,
      "outputs": [
        {
          "output_type": "execute_result",
          "data": {
            "text/plain": [
              "LinearRegression(copy_X=True, fit_intercept=True, n_jobs=None, normalize=False)"
            ]
          },
          "metadata": {
            "tags": []
          },
          "execution_count": 112
        }
      ]
    },
    {
      "cell_type": "code",
      "metadata": {
        "id": "Y-T7r0UKu31i",
        "colab_type": "code",
        "colab": {
          "base_uri": "https://localhost:8080/",
          "height": 67
        },
        "outputId": "31e9c735-5239-436f-cc5f-3c94415247ae"
      },
      "source": [
        "y_true = train[target]\n",
        "y_predicted = model.predict(train[features])\n",
        "train_error = mean_absolute_error(y_true, y_predicted)\n",
        "\n",
        "y_true = test[target]\n",
        "y_predicted = model.predict(test[features])\n",
        "test_error = mean_absolute_error(y_true, y_predicted)\n",
        "\n",
        "print('Train Data Mean Absolute Error: $', round(train_error))\n",
        "print('Test Data Mean Absolute Error: $', round(test_error), '\\n')"
      ],
      "execution_count": 113,
      "outputs": [
        {
          "output_type": "stream",
          "text": [
            "Train Data Mean Absolute Error: $ 309.0\n",
            "Test Data Mean Absolute Error: $ 310.0 \n",
            "\n"
          ],
          "name": "stdout"
        }
      ]
    },
    {
      "cell_type": "markdown",
      "metadata": {
        "id": "4jLEcukVmyXb",
        "colab_type": "text"
      },
      "source": [
        "Use this model to predict the price of a half carat diamond with \"very good\" cut"
      ]
    },
    {
      "cell_type": "code",
      "metadata": {
        "id": "mjJFYDx0uHWA",
        "colab_type": "code",
        "colab": {
          "base_uri": "https://localhost:8080/",
          "height": 33
        },
        "outputId": "77f589b7-6ef6-4065-97bc-492d6c43fb73"
      },
      "source": [
        "print(f\"0.5 carat diamond (very good cut) predicted price: ${round(model.predict([[0.5,3]])[0],2)}\")"
      ],
      "execution_count": 114,
      "outputs": [
        {
          "output_type": "stream",
          "text": [
            "0.5 carat diamond (very good cut) predicted price: $1489.46\n"
          ],
          "name": "stdout"
        }
      ]
    },
    {
      "cell_type": "markdown",
      "metadata": {
        "id": "eB-7wzRjmyXe",
        "colab_type": "text"
      },
      "source": [
        "### 3. More data, more features, any model"
      ]
    },
    {
      "cell_type": "markdown",
      "metadata": {
        "id": "OCauk9z2myXf",
        "colab_type": "text"
      },
      "source": [
        "You choose what features and model type to use! Try to get a better mean absolute error on the test set than your model from the last question."
      ]
    },
    {
      "cell_type": "markdown",
      "metadata": {
        "id": "nWVpkz8dmyXf",
        "colab_type": "text"
      },
      "source": [
        "Refer to [this documentation](https://ggplot2.tidyverse.org/reference/diamonds.html) for more explanation of the features.\n",
        "\n",
        "Besides `cut`, there are two more ordinal features, which you'd need to encode as numbers if you want to use in your model:"
      ]
    },
    {
      "cell_type": "code",
      "metadata": {
        "id": "54K95PyEmyXf",
        "colab_type": "code",
        "outputId": "7b761348-f169-4e67-9ea4-13e1f27fd851",
        "colab": {
          "base_uri": "https://localhost:8080/",
          "height": 196
        }
      },
      "source": [
        "train.describe(include=['object'])\n",
        "train.head()"
      ],
      "execution_count": 115,
      "outputs": [
        {
          "output_type": "execute_result",
          "data": {
            "text/html": [
              "<div>\n",
              "<style scoped>\n",
              "    .dataframe tbody tr th:only-of-type {\n",
              "        vertical-align: middle;\n",
              "    }\n",
              "\n",
              "    .dataframe tbody tr th {\n",
              "        vertical-align: top;\n",
              "    }\n",
              "\n",
              "    .dataframe thead th {\n",
              "        text-align: right;\n",
              "    }\n",
              "</style>\n",
              "<table border=\"1\" class=\"dataframe\">\n",
              "  <thead>\n",
              "    <tr style=\"text-align: right;\">\n",
              "      <th></th>\n",
              "      <th>carat</th>\n",
              "      <th>cut</th>\n",
              "      <th>color</th>\n",
              "      <th>clarity</th>\n",
              "      <th>depth</th>\n",
              "      <th>table</th>\n",
              "      <th>price</th>\n",
              "      <th>x</th>\n",
              "      <th>y</th>\n",
              "      <th>z</th>\n",
              "    </tr>\n",
              "  </thead>\n",
              "  <tbody>\n",
              "    <tr>\n",
              "      <th>43601</th>\n",
              "      <td>0.31</td>\n",
              "      <td>3</td>\n",
              "      <td>E</td>\n",
              "      <td>SI1</td>\n",
              "      <td>61.2</td>\n",
              "      <td>58.0</td>\n",
              "      <td>507</td>\n",
              "      <td>4.34</td>\n",
              "      <td>4.38</td>\n",
              "      <td>2.67</td>\n",
              "    </tr>\n",
              "    <tr>\n",
              "      <th>52706</th>\n",
              "      <td>0.74</td>\n",
              "      <td>1</td>\n",
              "      <td>H</td>\n",
              "      <td>VS2</td>\n",
              "      <td>66.1</td>\n",
              "      <td>61.0</td>\n",
              "      <td>2553</td>\n",
              "      <td>5.60</td>\n",
              "      <td>5.57</td>\n",
              "      <td>3.69</td>\n",
              "    </tr>\n",
              "    <tr>\n",
              "      <th>1986</th>\n",
              "      <td>0.81</td>\n",
              "      <td>3</td>\n",
              "      <td>G</td>\n",
              "      <td>SI1</td>\n",
              "      <td>62.3</td>\n",
              "      <td>59.0</td>\n",
              "      <td>3095</td>\n",
              "      <td>5.93</td>\n",
              "      <td>5.98</td>\n",
              "      <td>3.71</td>\n",
              "    </tr>\n",
              "    <tr>\n",
              "      <th>48617</th>\n",
              "      <td>0.70</td>\n",
              "      <td>1</td>\n",
              "      <td>G</td>\n",
              "      <td>SI2</td>\n",
              "      <td>61.5</td>\n",
              "      <td>66.0</td>\n",
              "      <td>1999</td>\n",
              "      <td>5.55</td>\n",
              "      <td>5.60</td>\n",
              "      <td>3.43</td>\n",
              "    </tr>\n",
              "    <tr>\n",
              "      <th>10947</th>\n",
              "      <td>0.87</td>\n",
              "      <td>5</td>\n",
              "      <td>G</td>\n",
              "      <td>VS2</td>\n",
              "      <td>61.8</td>\n",
              "      <td>56.0</td>\n",
              "      <td>4899</td>\n",
              "      <td>6.11</td>\n",
              "      <td>6.13</td>\n",
              "      <td>3.78</td>\n",
              "    </tr>\n",
              "  </tbody>\n",
              "</table>\n",
              "</div>"
            ],
            "text/plain": [
              "       carat  cut color clarity  depth  table  price     x     y     z\n",
              "43601   0.31    3     E     SI1   61.2   58.0    507  4.34  4.38  2.67\n",
              "52706   0.74    1     H     VS2   66.1   61.0   2553  5.60  5.57  3.69\n",
              "1986    0.81    3     G     SI1   62.3   59.0   3095  5.93  5.98  3.71\n",
              "48617   0.70    1     G     SI2   61.5   66.0   1999  5.55  5.60  3.43\n",
              "10947   0.87    5     G     VS2   61.8   56.0   4899  6.11  6.13  3.78"
            ]
          },
          "metadata": {
            "tags": []
          },
          "execution_count": 115
        }
      ]
    },
    {
      "cell_type": "code",
      "metadata": {
        "id": "ZUiQCTdQmyXi",
        "colab_type": "code",
        "outputId": "e4189cca-9f20-4ae0-f731-99490660d6bf",
        "colab": {
          "base_uri": "https://localhost:8080/",
          "height": 50
        }
      },
      "source": [
        "clarity_rank = {\"IF\":0,\"VVS1\":1, \"VVS2\":2,\"VS1\":3, \"VS2\":4,\"SI1\":5, \"SI2\":6, \"I1\":7}\n",
        "train.clarity = train.clarity.map(clarity_rank)\n",
        "test.clarity = test.clarity.map(clarity_rank)  \n",
        "\n",
        "color_rank = {\"J\":7, \"I\":6, \"H\":5, \"G\":4, \"F\":3, \"E\":2, \"D\":1 }\n",
        "train.color = train.color.map(color_rank)\n",
        "test.color = test.color.map(color_rank)\n",
        "\n",
        "features = ['color','clarity',\"carat\", \"cut\"]\n",
        "target = ['price']\n",
        "model = LinearRegression()\n",
        "model.fit(train[features],train[target])\n",
        "\n",
        "model.coef_,model.intercept_"
      ],
      "execution_count": 116,
      "outputs": [
        {
          "output_type": "execute_result",
          "data": {
            "text/plain": [
              "(array([[-112.47381195, -161.90279604, 5529.14717977,   51.28925478]]),\n",
              " array([-447.29671118]))"
            ]
          },
          "metadata": {
            "tags": []
          },
          "execution_count": 116
        }
      ]
    },
    {
      "cell_type": "code",
      "metadata": {
        "id": "_wAoZ1plQYVc",
        "colab_type": "code",
        "colab": {
          "base_uri": "https://localhost:8080/",
          "height": 67
        },
        "outputId": "7fe27b6c-1f73-4b73-8eb7-50d0ad7d3925"
      },
      "source": [
        "y_true = train[target]\n",
        "y_predicted = model.predict(train[features])\n",
        "train_error = mean_absolute_error(y_true, y_predicted)\n",
        "\n",
        "y_true = test[target]\n",
        "y_predicted = model.predict(test[features])\n",
        "test_error = mean_absolute_error(y_true, y_predicted)\n",
        "\n",
        "print('Train Data Mean Absolute Error: $', round(train_error))\n",
        "print('Test Data Mean Absolute Error: $', round(test_error), '\\n')"
      ],
      "execution_count": 117,
      "outputs": [
        {
          "output_type": "stream",
          "text": [
            "Train Data Mean Absolute Error: $ 245.0\n",
            "Test Data Mean Absolute Error: $ 246.0 \n",
            "\n"
          ],
          "name": "stdout"
        }
      ]
    }
  ]
}