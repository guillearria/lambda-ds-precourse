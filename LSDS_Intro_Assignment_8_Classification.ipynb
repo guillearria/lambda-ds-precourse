{
  "nbformat": 4,
  "nbformat_minor": 0,
  "metadata": {
    "colab": {
      "name": "Copy of LSDS Intro Assignment 8 - Classification.ipynb",
      "version": "0.3.2",
      "provenance": [],
      "collapsed_sections": [],
      "include_colab_link": true
    },
    "kernelspec": {
      "display_name": "Python 3",
      "language": "python",
      "name": "python3"
    }
  },
  "cells": [
    {
      "cell_type": "markdown",
      "metadata": {
        "id": "view-in-github",
        "colab_type": "text"
      },
      "source": [
        "<a href=\"https://colab.research.google.com/github/sapinspys/lambda-ds-precourse/blob/master/LSDS_Intro_Assignment_8_Classification.ipynb\" target=\"_parent\"><img src=\"https://colab.research.google.com/assets/colab-badge.svg\" alt=\"Open In Colab\"/></a>"
      ]
    },
    {
      "cell_type": "markdown",
      "metadata": {
        "id": "lOH73mi0Wc3q",
        "colab_type": "text"
      },
      "source": [
        "# Lambda School, Intro to Data Science, Day 8 — Classification!"
      ]
    },
    {
      "cell_type": "markdown",
      "metadata": {
        "id": "EQ6Yq0xkWc3r",
        "colab_type": "text"
      },
      "source": [
        "## Assignment\n",
        "\n",
        "Run this cell to load the Titanic data:"
      ]
    },
    {
      "cell_type": "code",
      "metadata": {
        "id": "MsZf-QBJWc3s",
        "colab_type": "code",
        "colab": {}
      },
      "source": [
        "import pandas as pd\n",
        "import seaborn as sns\n",
        "from sklearn.model_selection import train_test_split\n",
        "train, test = train_test_split(sns.load_dataset('titanic').drop(columns=['alive']), random_state=0)\n",
        "target = 'survived'"
      ],
      "execution_count": 0,
      "outputs": []
    },
    {
      "cell_type": "markdown",
      "metadata": {
        "id": "BWnyTrASWc3v",
        "colab_type": "text"
      },
      "source": [
        "Then, train a [Logistic Regression](http://scikit-learn.org/stable/modules/generated/sklearn.linear_model.LogisticRegression.html#sklearn.linear_model.LogisticRegression.predict_proba), [Decision Tree](http://scikit-learn.org/stable/modules/generated/sklearn.tree.DecisionTreeClassifier.html), or [Random Forest](http://scikit-learn.org/stable/modules/generated/sklearn.ensemble.RandomForestClassifier.html) model. Use any features and parameters you want. \n",
        "\n",
        "Try to get better than 78.0% accuracy on the test set! (This is not required, but encouraged.)\n",
        "\n",
        "Do refer to the lecture notebook — but try not to copy-paste.\n",
        "\n",
        "> You must type each of these exercises in, manually. If you copy and paste, you might as well not even do them. The point of these exercises is to train your hands, your brain, and your mind in how to read, write, and see code. If you copy-paste, you are cheating yourself out of the effectiveness of the lessons. —*[Learn Python the Hard Way](https://learnpythonthehardway.org/book/intro.html)*\n",
        "\n",
        "After this, you may want to try [Kaggle's Titanic challenge](https://www.kaggle.com/c/titanic)!"
      ]
    },
    {
      "cell_type": "code",
      "metadata": {
        "id": "CjRrnKV6ouw4",
        "colab_type": "code",
        "colab": {
          "base_uri": "https://localhost:8080/",
          "height": 216
        },
        "outputId": "ea12d3a9-f51b-406b-c2f4-0116c29e4d87"
      },
      "source": [
        "train.head()"
      ],
      "execution_count": 48,
      "outputs": [
        {
          "output_type": "execute_result",
          "data": {
            "text/html": [
              "<div>\n",
              "<style scoped>\n",
              "    .dataframe tbody tr th:only-of-type {\n",
              "        vertical-align: middle;\n",
              "    }\n",
              "\n",
              "    .dataframe tbody tr th {\n",
              "        vertical-align: top;\n",
              "    }\n",
              "\n",
              "    .dataframe thead th {\n",
              "        text-align: right;\n",
              "    }\n",
              "</style>\n",
              "<table border=\"1\" class=\"dataframe\">\n",
              "  <thead>\n",
              "    <tr style=\"text-align: right;\">\n",
              "      <th></th>\n",
              "      <th>survived</th>\n",
              "      <th>pclass</th>\n",
              "      <th>sex</th>\n",
              "      <th>age</th>\n",
              "      <th>sibsp</th>\n",
              "      <th>parch</th>\n",
              "      <th>fare</th>\n",
              "      <th>embarked</th>\n",
              "      <th>class</th>\n",
              "      <th>who</th>\n",
              "      <th>adult_male</th>\n",
              "      <th>deck</th>\n",
              "      <th>embark_town</th>\n",
              "      <th>alone</th>\n",
              "    </tr>\n",
              "  </thead>\n",
              "  <tbody>\n",
              "    <tr>\n",
              "      <th>105</th>\n",
              "      <td>0</td>\n",
              "      <td>3</td>\n",
              "      <td>male</td>\n",
              "      <td>28.0</td>\n",
              "      <td>0</td>\n",
              "      <td>0</td>\n",
              "      <td>7.8958</td>\n",
              "      <td>S</td>\n",
              "      <td>Third</td>\n",
              "      <td>man</td>\n",
              "      <td>True</td>\n",
              "      <td>NaN</td>\n",
              "      <td>Southampton</td>\n",
              "      <td>True</td>\n",
              "    </tr>\n",
              "    <tr>\n",
              "      <th>68</th>\n",
              "      <td>1</td>\n",
              "      <td>3</td>\n",
              "      <td>female</td>\n",
              "      <td>17.0</td>\n",
              "      <td>4</td>\n",
              "      <td>2</td>\n",
              "      <td>7.9250</td>\n",
              "      <td>S</td>\n",
              "      <td>Third</td>\n",
              "      <td>woman</td>\n",
              "      <td>False</td>\n",
              "      <td>NaN</td>\n",
              "      <td>Southampton</td>\n",
              "      <td>False</td>\n",
              "    </tr>\n",
              "    <tr>\n",
              "      <th>253</th>\n",
              "      <td>0</td>\n",
              "      <td>3</td>\n",
              "      <td>male</td>\n",
              "      <td>30.0</td>\n",
              "      <td>1</td>\n",
              "      <td>0</td>\n",
              "      <td>16.1000</td>\n",
              "      <td>S</td>\n",
              "      <td>Third</td>\n",
              "      <td>man</td>\n",
              "      <td>True</td>\n",
              "      <td>NaN</td>\n",
              "      <td>Southampton</td>\n",
              "      <td>False</td>\n",
              "    </tr>\n",
              "    <tr>\n",
              "      <th>320</th>\n",
              "      <td>0</td>\n",
              "      <td>3</td>\n",
              "      <td>male</td>\n",
              "      <td>22.0</td>\n",
              "      <td>0</td>\n",
              "      <td>0</td>\n",
              "      <td>7.2500</td>\n",
              "      <td>S</td>\n",
              "      <td>Third</td>\n",
              "      <td>man</td>\n",
              "      <td>True</td>\n",
              "      <td>NaN</td>\n",
              "      <td>Southampton</td>\n",
              "      <td>True</td>\n",
              "    </tr>\n",
              "    <tr>\n",
              "      <th>706</th>\n",
              "      <td>1</td>\n",
              "      <td>2</td>\n",
              "      <td>female</td>\n",
              "      <td>45.0</td>\n",
              "      <td>0</td>\n",
              "      <td>0</td>\n",
              "      <td>13.5000</td>\n",
              "      <td>S</td>\n",
              "      <td>Second</td>\n",
              "      <td>woman</td>\n",
              "      <td>False</td>\n",
              "      <td>NaN</td>\n",
              "      <td>Southampton</td>\n",
              "      <td>True</td>\n",
              "    </tr>\n",
              "  </tbody>\n",
              "</table>\n",
              "</div>"
            ],
            "text/plain": [
              "     survived  pclass     sex   age  ...  adult_male  deck  embark_town  alone\n",
              "105         0       3    male  28.0  ...        True   NaN  Southampton   True\n",
              "68          1       3  female  17.0  ...       False   NaN  Southampton  False\n",
              "253         0       3    male  30.0  ...        True   NaN  Southampton  False\n",
              "320         0       3    male  22.0  ...        True   NaN  Southampton   True\n",
              "706         1       2  female  45.0  ...       False   NaN  Southampton   True\n",
              "\n",
              "[5 rows x 14 columns]"
            ]
          },
          "metadata": {
            "tags": []
          },
          "execution_count": 48
        }
      ]
    },
    {
      "cell_type": "code",
      "metadata": {
        "id": "FGT0WHTfWc3v",
        "colab_type": "code",
        "colab": {
          "base_uri": "https://localhost:8080/",
          "height": 215
        },
        "outputId": "b87518a1-a86e-46b0-86e7-2fc8e86c2e6f"
      },
      "source": [
        "corr = train.corr()\n",
        "corr.style.background_gradient(cmap='coolwarm')"
      ],
      "execution_count": 49,
      "outputs": [
        {
          "output_type": "execute_result",
          "data": {
            "text/html": [
              "<style  type=\"text/css\" >\n",
              "    #T_163e645a_832e_11e9_a045_0242ac1c0002row0_col0 {\n",
              "            background-color:  #b40426;\n",
              "            color:  #f1f1f1;\n",
              "        }    #T_163e645a_832e_11e9_a045_0242ac1c0002row0_col1 {\n",
              "            background-color:  #6485ec;\n",
              "            color:  #000000;\n",
              "        }    #T_163e645a_832e_11e9_a045_0242ac1c0002row0_col2 {\n",
              "            background-color:  #7b9ff9;\n",
              "            color:  #000000;\n",
              "        }    #T_163e645a_832e_11e9_a045_0242ac1c0002row0_col3 {\n",
              "            background-color:  #a9c6fd;\n",
              "            color:  #000000;\n",
              "        }    #T_163e645a_832e_11e9_a045_0242ac1c0002row0_col4 {\n",
              "            background-color:  #c7d7f0;\n",
              "            color:  #000000;\n",
              "        }    #T_163e645a_832e_11e9_a045_0242ac1c0002row0_col5 {\n",
              "            background-color:  #dcdddd;\n",
              "            color:  #000000;\n",
              "        }    #T_163e645a_832e_11e9_a045_0242ac1c0002row0_col6 {\n",
              "            background-color:  #3b4cc0;\n",
              "            color:  #f1f1f1;\n",
              "        }    #T_163e645a_832e_11e9_a045_0242ac1c0002row0_col7 {\n",
              "            background-color:  #8caffe;\n",
              "            color:  #000000;\n",
              "        }    #T_163e645a_832e_11e9_a045_0242ac1c0002row1_col0 {\n",
              "            background-color:  #6b8df0;\n",
              "            color:  #000000;\n",
              "        }    #T_163e645a_832e_11e9_a045_0242ac1c0002row1_col1 {\n",
              "            background-color:  #b40426;\n",
              "            color:  #f1f1f1;\n",
              "        }    #T_163e645a_832e_11e9_a045_0242ac1c0002row1_col2 {\n",
              "            background-color:  #3b4cc0;\n",
              "            color:  #f1f1f1;\n",
              "        }    #T_163e645a_832e_11e9_a045_0242ac1c0002row1_col3 {\n",
              "            background-color:  #c7d7f0;\n",
              "            color:  #000000;\n",
              "        }    #T_163e645a_832e_11e9_a045_0242ac1c0002row1_col4 {\n",
              "            background-color:  #bad0f8;\n",
              "            color:  #000000;\n",
              "        }    #T_163e645a_832e_11e9_a045_0242ac1c0002row1_col5 {\n",
              "            background-color:  #3b4cc0;\n",
              "            color:  #f1f1f1;\n",
              "        }    #T_163e645a_832e_11e9_a045_0242ac1c0002row1_col6 {\n",
              "            background-color:  #ccd9ed;\n",
              "            color:  #000000;\n",
              "        }    #T_163e645a_832e_11e9_a045_0242ac1c0002row1_col7 {\n",
              "            background-color:  #d1dae9;\n",
              "            color:  #000000;\n",
              "        }    #T_163e645a_832e_11e9_a045_0242ac1c0002row2_col0 {\n",
              "            background-color:  #a2c1ff;\n",
              "            color:  #000000;\n",
              "        }    #T_163e645a_832e_11e9_a045_0242ac1c0002row2_col1 {\n",
              "            background-color:  #5d7ce6;\n",
              "            color:  #000000;\n",
              "        }    #T_163e645a_832e_11e9_a045_0242ac1c0002row2_col2 {\n",
              "            background-color:  #b40426;\n",
              "            color:  #f1f1f1;\n",
              "        }    #T_163e645a_832e_11e9_a045_0242ac1c0002row2_col3 {\n",
              "            background-color:  #6f92f3;\n",
              "            color:  #000000;\n",
              "        }    #T_163e645a_832e_11e9_a045_0242ac1c0002row2_col4 {\n",
              "            background-color:  #8db0fe;\n",
              "            color:  #000000;\n",
              "        }    #T_163e645a_832e_11e9_a045_0242ac1c0002row2_col5 {\n",
              "            background-color:  #c5d6f2;\n",
              "            color:  #000000;\n",
              "        }    #T_163e645a_832e_11e9_a045_0242ac1c0002row2_col6 {\n",
              "            background-color:  #e7d7ce;\n",
              "            color:  #000000;\n",
              "        }    #T_163e645a_832e_11e9_a045_0242ac1c0002row2_col7 {\n",
              "            background-color:  #dcdddd;\n",
              "            color:  #000000;\n",
              "        }    #T_163e645a_832e_11e9_a045_0242ac1c0002row3_col0 {\n",
              "            background-color:  #a9c6fd;\n",
              "            color:  #000000;\n",
              "        }    #T_163e645a_832e_11e9_a045_0242ac1c0002row3_col1 {\n",
              "            background-color:  #c4d5f3;\n",
              "            color:  #000000;\n",
              "        }    #T_163e645a_832e_11e9_a045_0242ac1c0002row3_col2 {\n",
              "            background-color:  #455cce;\n",
              "            color:  #f1f1f1;\n",
              "        }    #T_163e645a_832e_11e9_a045_0242ac1c0002row3_col3 {\n",
              "            background-color:  #b40426;\n",
              "            color:  #f1f1f1;\n",
              "        }    #T_163e645a_832e_11e9_a045_0242ac1c0002row3_col4 {\n",
              "            background-color:  #f5c0a7;\n",
              "            color:  #000000;\n",
              "        }    #T_163e645a_832e_11e9_a045_0242ac1c0002row3_col5 {\n",
              "            background-color:  #cbd8ee;\n",
              "            color:  #000000;\n",
              "        }    #T_163e645a_832e_11e9_a045_0242ac1c0002row3_col6 {\n",
              "            background-color:  #7ea1fa;\n",
              "            color:  #000000;\n",
              "        }    #T_163e645a_832e_11e9_a045_0242ac1c0002row3_col7 {\n",
              "            background-color:  #3e51c5;\n",
              "            color:  #f1f1f1;\n",
              "        }    #T_163e645a_832e_11e9_a045_0242ac1c0002row4_col0 {\n",
              "            background-color:  #c5d6f2;\n",
              "            color:  #000000;\n",
              "        }    #T_163e645a_832e_11e9_a045_0242ac1c0002row4_col1 {\n",
              "            background-color:  #b2ccfb;\n",
              "            color:  #000000;\n",
              "        }    #T_163e645a_832e_11e9_a045_0242ac1c0002row4_col2 {\n",
              "            background-color:  #6282ea;\n",
              "            color:  #000000;\n",
              "        }    #T_163e645a_832e_11e9_a045_0242ac1c0002row4_col3 {\n",
              "            background-color:  #f5c1a9;\n",
              "            color:  #000000;\n",
              "        }    #T_163e645a_832e_11e9_a045_0242ac1c0002row4_col4 {\n",
              "            background-color:  #b40426;\n",
              "            color:  #f1f1f1;\n",
              "        }    #T_163e645a_832e_11e9_a045_0242ac1c0002row4_col5 {\n",
              "            background-color:  #d8dce2;\n",
              "            color:  #000000;\n",
              "        }    #T_163e645a_832e_11e9_a045_0242ac1c0002row4_col6 {\n",
              "            background-color:  #688aef;\n",
              "            color:  #000000;\n",
              "        }    #T_163e645a_832e_11e9_a045_0242ac1c0002row4_col7 {\n",
              "            background-color:  #3b4cc0;\n",
              "            color:  #f1f1f1;\n",
              "        }    #T_163e645a_832e_11e9_a045_0242ac1c0002row5_col0 {\n",
              "            background-color:  #dfdbd9;\n",
              "            color:  #000000;\n",
              "        }    #T_163e645a_832e_11e9_a045_0242ac1c0002row5_col1 {\n",
              "            background-color:  #3b4cc0;\n",
              "            color:  #f1f1f1;\n",
              "        }    #T_163e645a_832e_11e9_a045_0242ac1c0002row5_col2 {\n",
              "            background-color:  #adc9fd;\n",
              "            color:  #000000;\n",
              "        }    #T_163e645a_832e_11e9_a045_0242ac1c0002row5_col3 {\n",
              "            background-color:  #cfdaea;\n",
              "            color:  #000000;\n",
              "        }    #T_163e645a_832e_11e9_a045_0242ac1c0002row5_col4 {\n",
              "            background-color:  #dddcdc;\n",
              "            color:  #000000;\n",
              "        }    #T_163e645a_832e_11e9_a045_0242ac1c0002row5_col5 {\n",
              "            background-color:  #b40426;\n",
              "            color:  #f1f1f1;\n",
              "        }    #T_163e645a_832e_11e9_a045_0242ac1c0002row5_col6 {\n",
              "            background-color:  #8fb1fe;\n",
              "            color:  #000000;\n",
              "        }    #T_163e645a_832e_11e9_a045_0242ac1c0002row5_col7 {\n",
              "            background-color:  #80a3fa;\n",
              "            color:  #000000;\n",
              "        }    #T_163e645a_832e_11e9_a045_0242ac1c0002row6_col0 {\n",
              "            background-color:  #3b4cc0;\n",
              "            color:  #f1f1f1;\n",
              "        }    #T_163e645a_832e_11e9_a045_0242ac1c0002row6_col1 {\n",
              "            background-color:  #c7d7f0;\n",
              "            color:  #000000;\n",
              "        }    #T_163e645a_832e_11e9_a045_0242ac1c0002row6_col2 {\n",
              "            background-color:  #d5dbe5;\n",
              "            color:  #000000;\n",
              "        }    #T_163e645a_832e_11e9_a045_0242ac1c0002row6_col3 {\n",
              "            background-color:  #7ea1fa;\n",
              "            color:  #000000;\n",
              "        }    #T_163e645a_832e_11e9_a045_0242ac1c0002row6_col4 {\n",
              "            background-color:  #6c8ff1;\n",
              "            color:  #000000;\n",
              "        }    #T_163e645a_832e_11e9_a045_0242ac1c0002row6_col5 {\n",
              "            background-color:  #89acfd;\n",
              "            color:  #000000;\n",
              "        }    #T_163e645a_832e_11e9_a045_0242ac1c0002row6_col6 {\n",
              "            background-color:  #b40426;\n",
              "            color:  #f1f1f1;\n",
              "        }    #T_163e645a_832e_11e9_a045_0242ac1c0002row6_col7 {\n",
              "            background-color:  #f4c6af;\n",
              "            color:  #000000;\n",
              "        }    #T_163e645a_832e_11e9_a045_0242ac1c0002row7_col0 {\n",
              "            background-color:  #88abfd;\n",
              "            color:  #000000;\n",
              "        }    #T_163e645a_832e_11e9_a045_0242ac1c0002row7_col1 {\n",
              "            background-color:  #cad8ef;\n",
              "            color:  #000000;\n",
              "        }    #T_163e645a_832e_11e9_a045_0242ac1c0002row7_col2 {\n",
              "            background-color:  #c4d5f3;\n",
              "            color:  #000000;\n",
              "        }    #T_163e645a_832e_11e9_a045_0242ac1c0002row7_col3 {\n",
              "            background-color:  #3b4cc0;\n",
              "            color:  #f1f1f1;\n",
              "        }    #T_163e645a_832e_11e9_a045_0242ac1c0002row7_col4 {\n",
              "            background-color:  #3b4cc0;\n",
              "            color:  #f1f1f1;\n",
              "        }    #T_163e645a_832e_11e9_a045_0242ac1c0002row7_col5 {\n",
              "            background-color:  #7699f6;\n",
              "            color:  #000000;\n",
              "        }    #T_163e645a_832e_11e9_a045_0242ac1c0002row7_col6 {\n",
              "            background-color:  #f3c7b1;\n",
              "            color:  #000000;\n",
              "        }    #T_163e645a_832e_11e9_a045_0242ac1c0002row7_col7 {\n",
              "            background-color:  #b40426;\n",
              "            color:  #f1f1f1;\n",
              "        }</style><table id=\"T_163e645a_832e_11e9_a045_0242ac1c0002\" ><thead>    <tr>        <th class=\"blank level0\" ></th>        <th class=\"col_heading level0 col0\" >survived</th>        <th class=\"col_heading level0 col1\" >pclass</th>        <th class=\"col_heading level0 col2\" >age</th>        <th class=\"col_heading level0 col3\" >sibsp</th>        <th class=\"col_heading level0 col4\" >parch</th>        <th class=\"col_heading level0 col5\" >fare</th>        <th class=\"col_heading level0 col6\" >adult_male</th>        <th class=\"col_heading level0 col7\" >alone</th>    </tr></thead><tbody>\n",
              "                <tr>\n",
              "                        <th id=\"T_163e645a_832e_11e9_a045_0242ac1c0002level0_row0\" class=\"row_heading level0 row0\" >survived</th>\n",
              "                        <td id=\"T_163e645a_832e_11e9_a045_0242ac1c0002row0_col0\" class=\"data row0 col0\" >1</td>\n",
              "                        <td id=\"T_163e645a_832e_11e9_a045_0242ac1c0002row0_col1\" class=\"data row0 col1\" >-0.326264</td>\n",
              "                        <td id=\"T_163e645a_832e_11e9_a045_0242ac1c0002row0_col2\" class=\"data row0 col2\" >-0.0831464</td>\n",
              "                        <td id=\"T_163e645a_832e_11e9_a045_0242ac1c0002row0_col3\" class=\"data row0 col3\" >-0.050014</td>\n",
              "                        <td id=\"T_163e645a_832e_11e9_a045_0242ac1c0002row0_col4\" class=\"data row0 col4\" >0.0815843</td>\n",
              "                        <td id=\"T_163e645a_832e_11e9_a045_0242ac1c0002row0_col5\" class=\"data row0 col5\" >0.228372</td>\n",
              "                        <td id=\"T_163e645a_832e_11e9_a045_0242ac1c0002row0_col6\" class=\"data row0 col6\" >-0.568379</td>\n",
              "                        <td id=\"T_163e645a_832e_11e9_a045_0242ac1c0002row0_col7\" class=\"data row0 col7\" >-0.195185</td>\n",
              "            </tr>\n",
              "            <tr>\n",
              "                        <th id=\"T_163e645a_832e_11e9_a045_0242ac1c0002level0_row1\" class=\"row_heading level0 row1\" >pclass</th>\n",
              "                        <td id=\"T_163e645a_832e_11e9_a045_0242ac1c0002row1_col0\" class=\"data row1 col0\" >-0.326264</td>\n",
              "                        <td id=\"T_163e645a_832e_11e9_a045_0242ac1c0002row1_col1\" class=\"data row1 col1\" >1</td>\n",
              "                        <td id=\"T_163e645a_832e_11e9_a045_0242ac1c0002row1_col2\" class=\"data row1 col2\" >-0.358802</td>\n",
              "                        <td id=\"T_163e645a_832e_11e9_a045_0242ac1c0002row1_col3\" class=\"data row1 col3\" >0.0985966</td>\n",
              "                        <td id=\"T_163e645a_832e_11e9_a045_0242ac1c0002row1_col4\" class=\"data row1 col4\" >0.0173881</td>\n",
              "                        <td id=\"T_163e645a_832e_11e9_a045_0242ac1c0002row1_col5\" class=\"data row1 col5\" >-0.532116</td>\n",
              "                        <td id=\"T_163e645a_832e_11e9_a045_0242ac1c0002row1_col6\" class=\"data row1 col6\" >0.119928</td>\n",
              "                        <td id=\"T_163e645a_832e_11e9_a045_0242ac1c0002row1_col7\" class=\"data row1 col7\" >0.130358</td>\n",
              "            </tr>\n",
              "            <tr>\n",
              "                        <th id=\"T_163e645a_832e_11e9_a045_0242ac1c0002level0_row2\" class=\"row_heading level0 row2\" >age</th>\n",
              "                        <td id=\"T_163e645a_832e_11e9_a045_0242ac1c0002row2_col0\" class=\"data row2 col0\" >-0.0831464</td>\n",
              "                        <td id=\"T_163e645a_832e_11e9_a045_0242ac1c0002row2_col1\" class=\"data row2 col1\" >-0.358802</td>\n",
              "                        <td id=\"T_163e645a_832e_11e9_a045_0242ac1c0002row2_col2\" class=\"data row2 col2\" >1</td>\n",
              "                        <td id=\"T_163e645a_832e_11e9_a045_0242ac1c0002row2_col3\" class=\"data row2 col3\" >-0.305921</td>\n",
              "                        <td id=\"T_163e645a_832e_11e9_a045_0242ac1c0002row2_col4\" class=\"data row2 col4\" >-0.186961</td>\n",
              "                        <td id=\"T_163e645a_832e_11e9_a045_0242ac1c0002row2_col5\" class=\"data row2 col5\" >0.103862</td>\n",
              "                        <td id=\"T_163e645a_832e_11e9_a045_0242ac1c0002row2_col6\" class=\"data row2 col6\" >0.282477</td>\n",
              "                        <td id=\"T_163e645a_832e_11e9_a045_0242ac1c0002row2_col7\" class=\"data row2 col7\" >0.20218</td>\n",
              "            </tr>\n",
              "            <tr>\n",
              "                        <th id=\"T_163e645a_832e_11e9_a045_0242ac1c0002level0_row3\" class=\"row_heading level0 row3\" >sibsp</th>\n",
              "                        <td id=\"T_163e645a_832e_11e9_a045_0242ac1c0002row3_col0\" class=\"data row3 col0\" >-0.050014</td>\n",
              "                        <td id=\"T_163e645a_832e_11e9_a045_0242ac1c0002row3_col1\" class=\"data row3 col1\" >0.0985966</td>\n",
              "                        <td id=\"T_163e645a_832e_11e9_a045_0242ac1c0002row3_col2\" class=\"data row3 col2\" >-0.305921</td>\n",
              "                        <td id=\"T_163e645a_832e_11e9_a045_0242ac1c0002row3_col3\" class=\"data row3 col3\" >1</td>\n",
              "                        <td id=\"T_163e645a_832e_11e9_a045_0242ac1c0002row3_col4\" class=\"data row3 col4\" >0.425168</td>\n",
              "                        <td id=\"T_163e645a_832e_11e9_a045_0242ac1c0002row3_col5\" class=\"data row3 col5\" >0.136919</td>\n",
              "                        <td id=\"T_163e645a_832e_11e9_a045_0242ac1c0002row3_col6\" class=\"data row3 col6\" >-0.241871</td>\n",
              "                        <td id=\"T_163e645a_832e_11e9_a045_0242ac1c0002row3_col7\" class=\"data row3 col7\" >-0.569505</td>\n",
              "            </tr>\n",
              "            <tr>\n",
              "                        <th id=\"T_163e645a_832e_11e9_a045_0242ac1c0002level0_row4\" class=\"row_heading level0 row4\" >parch</th>\n",
              "                        <td id=\"T_163e645a_832e_11e9_a045_0242ac1c0002row4_col0\" class=\"data row4 col0\" >0.0815843</td>\n",
              "                        <td id=\"T_163e645a_832e_11e9_a045_0242ac1c0002row4_col1\" class=\"data row4 col1\" >0.0173881</td>\n",
              "                        <td id=\"T_163e645a_832e_11e9_a045_0242ac1c0002row4_col2\" class=\"data row4 col2\" >-0.186961</td>\n",
              "                        <td id=\"T_163e645a_832e_11e9_a045_0242ac1c0002row4_col3\" class=\"data row4 col3\" >0.425168</td>\n",
              "                        <td id=\"T_163e645a_832e_11e9_a045_0242ac1c0002row4_col4\" class=\"data row4 col4\" >1</td>\n",
              "                        <td id=\"T_163e645a_832e_11e9_a045_0242ac1c0002row4_col5\" class=\"data row4 col5\" >0.206725</td>\n",
              "                        <td id=\"T_163e645a_832e_11e9_a045_0242ac1c0002row4_col6\" class=\"data row4 col6\" >-0.338335</td>\n",
              "                        <td id=\"T_163e645a_832e_11e9_a045_0242ac1c0002row4_col7\" class=\"data row4 col7\" >-0.590335</td>\n",
              "            </tr>\n",
              "            <tr>\n",
              "                        <th id=\"T_163e645a_832e_11e9_a045_0242ac1c0002level0_row5\" class=\"row_heading level0 row5\" >fare</th>\n",
              "                        <td id=\"T_163e645a_832e_11e9_a045_0242ac1c0002row5_col0\" class=\"data row5 col0\" >0.228372</td>\n",
              "                        <td id=\"T_163e645a_832e_11e9_a045_0242ac1c0002row5_col1\" class=\"data row5 col1\" >-0.532116</td>\n",
              "                        <td id=\"T_163e645a_832e_11e9_a045_0242ac1c0002row5_col2\" class=\"data row5 col2\" >0.103862</td>\n",
              "                        <td id=\"T_163e645a_832e_11e9_a045_0242ac1c0002row5_col3\" class=\"data row5 col3\" >0.136919</td>\n",
              "                        <td id=\"T_163e645a_832e_11e9_a045_0242ac1c0002row5_col4\" class=\"data row5 col4\" >0.206725</td>\n",
              "                        <td id=\"T_163e645a_832e_11e9_a045_0242ac1c0002row5_col5\" class=\"data row5 col5\" >1</td>\n",
              "                        <td id=\"T_163e645a_832e_11e9_a045_0242ac1c0002row5_col6\" class=\"data row5 col6\" >-0.167024</td>\n",
              "                        <td id=\"T_163e645a_832e_11e9_a045_0242ac1c0002row5_col7\" class=\"data row5 col7\" >-0.250177</td>\n",
              "            </tr>\n",
              "            <tr>\n",
              "                        <th id=\"T_163e645a_832e_11e9_a045_0242ac1c0002level0_row6\" class=\"row_heading level0 row6\" >adult_male</th>\n",
              "                        <td id=\"T_163e645a_832e_11e9_a045_0242ac1c0002row6_col0\" class=\"data row6 col0\" >-0.568379</td>\n",
              "                        <td id=\"T_163e645a_832e_11e9_a045_0242ac1c0002row6_col1\" class=\"data row6 col1\" >0.119928</td>\n",
              "                        <td id=\"T_163e645a_832e_11e9_a045_0242ac1c0002row6_col2\" class=\"data row6 col2\" >0.282477</td>\n",
              "                        <td id=\"T_163e645a_832e_11e9_a045_0242ac1c0002row6_col3\" class=\"data row6 col3\" >-0.241871</td>\n",
              "                        <td id=\"T_163e645a_832e_11e9_a045_0242ac1c0002row6_col4\" class=\"data row6 col4\" >-0.338335</td>\n",
              "                        <td id=\"T_163e645a_832e_11e9_a045_0242ac1c0002row6_col5\" class=\"data row6 col5\" >-0.167024</td>\n",
              "                        <td id=\"T_163e645a_832e_11e9_a045_0242ac1c0002row6_col6\" class=\"data row6 col6\" >1</td>\n",
              "                        <td id=\"T_163e645a_832e_11e9_a045_0242ac1c0002row6_col7\" class=\"data row6 col7\" >0.394433</td>\n",
              "            </tr>\n",
              "            <tr>\n",
              "                        <th id=\"T_163e645a_832e_11e9_a045_0242ac1c0002level0_row7\" class=\"row_heading level0 row7\" >alone</th>\n",
              "                        <td id=\"T_163e645a_832e_11e9_a045_0242ac1c0002row7_col0\" class=\"data row7 col0\" >-0.195185</td>\n",
              "                        <td id=\"T_163e645a_832e_11e9_a045_0242ac1c0002row7_col1\" class=\"data row7 col1\" >0.130358</td>\n",
              "                        <td id=\"T_163e645a_832e_11e9_a045_0242ac1c0002row7_col2\" class=\"data row7 col2\" >0.20218</td>\n",
              "                        <td id=\"T_163e645a_832e_11e9_a045_0242ac1c0002row7_col3\" class=\"data row7 col3\" >-0.569505</td>\n",
              "                        <td id=\"T_163e645a_832e_11e9_a045_0242ac1c0002row7_col4\" class=\"data row7 col4\" >-0.590335</td>\n",
              "                        <td id=\"T_163e645a_832e_11e9_a045_0242ac1c0002row7_col5\" class=\"data row7 col5\" >-0.250177</td>\n",
              "                        <td id=\"T_163e645a_832e_11e9_a045_0242ac1c0002row7_col6\" class=\"data row7 col6\" >0.394433</td>\n",
              "                        <td id=\"T_163e645a_832e_11e9_a045_0242ac1c0002row7_col7\" class=\"data row7 col7\" >1</td>\n",
              "            </tr>\n",
              "    </tbody></table>"
            ],
            "text/plain": [
              "<pandas.io.formats.style.Styler at 0x7fa91288ebe0>"
            ]
          },
          "metadata": {
            "tags": []
          },
          "execution_count": 49
        }
      ]
    },
    {
      "cell_type": "markdown",
      "metadata": {
        "id": "kC0S5dNspOJ4",
        "colab_type": "text"
      },
      "source": [
        "## Logistic Regression: Attempt 1"
      ]
    },
    {
      "cell_type": "code",
      "metadata": {
        "id": "lQazoRzMpVrg",
        "colab_type": "code",
        "colab": {
          "base_uri": "https://localhost:8080/",
          "height": 154
        },
        "outputId": "05f4248f-a1bf-42aa-954a-048d7dec5de3"
      },
      "source": [
        "from sklearn.linear_model import LogisticRegression\n",
        "\n",
        "features = [\"adult_male\", \"alone\"]\n",
        "\n",
        "model = LogisticRegression()\n",
        "model.fit(train[features], train[target])"
      ],
      "execution_count": 50,
      "outputs": [
        {
          "output_type": "stream",
          "text": [
            "/usr/local/lib/python3.6/dist-packages/sklearn/linear_model/logistic.py:432: FutureWarning: Default solver will be changed to 'lbfgs' in 0.22. Specify a solver to silence this warning.\n",
            "  FutureWarning)\n"
          ],
          "name": "stderr"
        },
        {
          "output_type": "execute_result",
          "data": {
            "text/plain": [
              "LogisticRegression(C=1.0, class_weight=None, dual=False, fit_intercept=True,\n",
              "                   intercept_scaling=1, l1_ratio=None, max_iter=100,\n",
              "                   multi_class='warn', n_jobs=None, penalty='l2',\n",
              "                   random_state=None, solver='warn', tol=0.0001, verbose=0,\n",
              "                   warm_start=False)"
            ]
          },
          "metadata": {
            "tags": []
          },
          "execution_count": 50
        }
      ]
    },
    {
      "cell_type": "code",
      "metadata": {
        "id": "08meX0uopqJF",
        "colab_type": "code",
        "colab": {
          "base_uri": "https://localhost:8080/",
          "height": 50
        },
        "outputId": "6f7ea1d6-d28b-4cb7-d810-430a3e517471"
      },
      "source": [
        "from sklearn.metrics import accuracy_score\n",
        "\n",
        "y_true = train[target]\n",
        "y_pred = model.predict(train[features])\n",
        "print('Train accuracy:', accuracy_score(y_true, y_pred))\n",
        "\n",
        "y_true = test[target]\n",
        "y_pred = model.predict(test[features])\n",
        "print('Test accuracy:', accuracy_score(y_true, y_pred))"
      ],
      "execution_count": 51,
      "outputs": [
        {
          "output_type": "stream",
          "text": [
            "Train accuracy: 0.7949101796407185\n",
            "Test accuracy: 0.7713004484304933\n"
          ],
          "name": "stdout"
        }
      ]
    },
    {
      "cell_type": "markdown",
      "metadata": {
        "id": "eHRLbe6Iujt_",
        "colab_type": "text"
      },
      "source": [
        "## Decision Tree: Attempt 2\n",
        "\n",
        "Our first attempt had almost 78% accuracy! Let's see if we can do better using a decision tree model.\n"
      ]
    },
    {
      "cell_type": "code",
      "metadata": {
        "id": "aNro_IlWu7zx",
        "colab_type": "code",
        "colab": {
          "base_uri": "https://localhost:8080/",
          "height": 50
        },
        "outputId": "c774e1e7-7f0f-407d-b1a0-f413a80b706c"
      },
      "source": [
        "from sklearn.tree import DecisionTreeClassifier\n",
        "\n",
        "features = [\"adult_male\", \"alone\"]\n",
        "\n",
        "model = DecisionTreeClassifier(max_depth=2)\n",
        "model.fit(train[features], train[target])\n",
        "\n",
        "y_true = train[target]\n",
        "y_pred = model.predict(train[features])\n",
        "print('Train accuracy:', accuracy_score(y_true, y_pred))\n",
        "\n",
        "y_true = test[target]\n",
        "y_pred = model.predict(test[features])\n",
        "print('Test accuracy:', accuracy_score(y_true, y_pred))"
      ],
      "execution_count": 52,
      "outputs": [
        {
          "output_type": "stream",
          "text": [
            "Train accuracy: 0.7949101796407185\n",
            "Test accuracy: 0.7713004484304933\n"
          ],
          "name": "stdout"
        }
      ]
    },
    {
      "cell_type": "markdown",
      "metadata": {
        "id": "Hqmb6Jp3wjib",
        "colab_type": "text"
      },
      "source": [
        "# Multi-Model: Attempt 3\n",
        "\n",
        "Same results.. let's try different feature configurations"
      ]
    },
    {
      "cell_type": "code",
      "metadata": {
        "id": "Tmhx4oRtwsYE",
        "colab_type": "code",
        "colab": {
          "base_uri": "https://localhost:8080/",
          "height": 196
        },
        "outputId": "d7c04d73-9d10-4f7d-e5c2-37951f6349cb"
      },
      "source": [
        "# Encoding sex\n",
        "train['female'] = train.sex == 'female'\n",
        "test['female'] = test.sex == 'female'\n",
        "\n",
        "train[['sex', 'female']].head()"
      ],
      "execution_count": 53,
      "outputs": [
        {
          "output_type": "execute_result",
          "data": {
            "text/html": [
              "<div>\n",
              "<style scoped>\n",
              "    .dataframe tbody tr th:only-of-type {\n",
              "        vertical-align: middle;\n",
              "    }\n",
              "\n",
              "    .dataframe tbody tr th {\n",
              "        vertical-align: top;\n",
              "    }\n",
              "\n",
              "    .dataframe thead th {\n",
              "        text-align: right;\n",
              "    }\n",
              "</style>\n",
              "<table border=\"1\" class=\"dataframe\">\n",
              "  <thead>\n",
              "    <tr style=\"text-align: right;\">\n",
              "      <th></th>\n",
              "      <th>sex</th>\n",
              "      <th>female</th>\n",
              "    </tr>\n",
              "  </thead>\n",
              "  <tbody>\n",
              "    <tr>\n",
              "      <th>105</th>\n",
              "      <td>male</td>\n",
              "      <td>False</td>\n",
              "    </tr>\n",
              "    <tr>\n",
              "      <th>68</th>\n",
              "      <td>female</td>\n",
              "      <td>True</td>\n",
              "    </tr>\n",
              "    <tr>\n",
              "      <th>253</th>\n",
              "      <td>male</td>\n",
              "      <td>False</td>\n",
              "    </tr>\n",
              "    <tr>\n",
              "      <th>320</th>\n",
              "      <td>male</td>\n",
              "      <td>False</td>\n",
              "    </tr>\n",
              "    <tr>\n",
              "      <th>706</th>\n",
              "      <td>female</td>\n",
              "      <td>True</td>\n",
              "    </tr>\n",
              "  </tbody>\n",
              "</table>\n",
              "</div>"
            ],
            "text/plain": [
              "        sex  female\n",
              "105    male   False\n",
              "68   female    True\n",
              "253    male   False\n",
              "320    male   False\n",
              "706  female    True"
            ]
          },
          "metadata": {
            "tags": []
          },
          "execution_count": 53
        }
      ]
    },
    {
      "cell_type": "code",
      "metadata": {
        "id": "PWNCtfoFw7kz",
        "colab_type": "code",
        "colab": {
          "base_uri": "https://localhost:8080/",
          "height": 300
        },
        "outputId": "fb568d63-a284-483d-de51-f15d9d9d0b5e"
      },
      "source": [
        "# Encoding class\n",
        "print(f\"{train['class'].value_counts()}\\n\")\n",
        "\n",
        "class_ranks = {\"First\": 1, \"Second\": 2, \"Third\": 3}\n",
        "train[\"class\"] = train[\"class\"].map(class_ranks)\n",
        "test[\"class\"] = test[\"class\"].map(class_ranks)\n",
        "\n",
        "train.head()"
      ],
      "execution_count": 54,
      "outputs": [
        {
          "output_type": "stream",
          "text": [
            "Third     367\n",
            "First     163\n",
            "Second    138\n",
            "Name: class, dtype: int64\n",
            "\n"
          ],
          "name": "stdout"
        },
        {
          "output_type": "execute_result",
          "data": {
            "text/html": [
              "<div>\n",
              "<style scoped>\n",
              "    .dataframe tbody tr th:only-of-type {\n",
              "        vertical-align: middle;\n",
              "    }\n",
              "\n",
              "    .dataframe tbody tr th {\n",
              "        vertical-align: top;\n",
              "    }\n",
              "\n",
              "    .dataframe thead th {\n",
              "        text-align: right;\n",
              "    }\n",
              "</style>\n",
              "<table border=\"1\" class=\"dataframe\">\n",
              "  <thead>\n",
              "    <tr style=\"text-align: right;\">\n",
              "      <th></th>\n",
              "      <th>survived</th>\n",
              "      <th>pclass</th>\n",
              "      <th>sex</th>\n",
              "      <th>age</th>\n",
              "      <th>sibsp</th>\n",
              "      <th>parch</th>\n",
              "      <th>fare</th>\n",
              "      <th>embarked</th>\n",
              "      <th>class</th>\n",
              "      <th>who</th>\n",
              "      <th>adult_male</th>\n",
              "      <th>deck</th>\n",
              "      <th>embark_town</th>\n",
              "      <th>alone</th>\n",
              "      <th>female</th>\n",
              "    </tr>\n",
              "  </thead>\n",
              "  <tbody>\n",
              "    <tr>\n",
              "      <th>105</th>\n",
              "      <td>0</td>\n",
              "      <td>3</td>\n",
              "      <td>male</td>\n",
              "      <td>28.0</td>\n",
              "      <td>0</td>\n",
              "      <td>0</td>\n",
              "      <td>7.8958</td>\n",
              "      <td>S</td>\n",
              "      <td>3</td>\n",
              "      <td>man</td>\n",
              "      <td>True</td>\n",
              "      <td>NaN</td>\n",
              "      <td>Southampton</td>\n",
              "      <td>True</td>\n",
              "      <td>False</td>\n",
              "    </tr>\n",
              "    <tr>\n",
              "      <th>68</th>\n",
              "      <td>1</td>\n",
              "      <td>3</td>\n",
              "      <td>female</td>\n",
              "      <td>17.0</td>\n",
              "      <td>4</td>\n",
              "      <td>2</td>\n",
              "      <td>7.9250</td>\n",
              "      <td>S</td>\n",
              "      <td>3</td>\n",
              "      <td>woman</td>\n",
              "      <td>False</td>\n",
              "      <td>NaN</td>\n",
              "      <td>Southampton</td>\n",
              "      <td>False</td>\n",
              "      <td>True</td>\n",
              "    </tr>\n",
              "    <tr>\n",
              "      <th>253</th>\n",
              "      <td>0</td>\n",
              "      <td>3</td>\n",
              "      <td>male</td>\n",
              "      <td>30.0</td>\n",
              "      <td>1</td>\n",
              "      <td>0</td>\n",
              "      <td>16.1000</td>\n",
              "      <td>S</td>\n",
              "      <td>3</td>\n",
              "      <td>man</td>\n",
              "      <td>True</td>\n",
              "      <td>NaN</td>\n",
              "      <td>Southampton</td>\n",
              "      <td>False</td>\n",
              "      <td>False</td>\n",
              "    </tr>\n",
              "    <tr>\n",
              "      <th>320</th>\n",
              "      <td>0</td>\n",
              "      <td>3</td>\n",
              "      <td>male</td>\n",
              "      <td>22.0</td>\n",
              "      <td>0</td>\n",
              "      <td>0</td>\n",
              "      <td>7.2500</td>\n",
              "      <td>S</td>\n",
              "      <td>3</td>\n",
              "      <td>man</td>\n",
              "      <td>True</td>\n",
              "      <td>NaN</td>\n",
              "      <td>Southampton</td>\n",
              "      <td>True</td>\n",
              "      <td>False</td>\n",
              "    </tr>\n",
              "    <tr>\n",
              "      <th>706</th>\n",
              "      <td>1</td>\n",
              "      <td>2</td>\n",
              "      <td>female</td>\n",
              "      <td>45.0</td>\n",
              "      <td>0</td>\n",
              "      <td>0</td>\n",
              "      <td>13.5000</td>\n",
              "      <td>S</td>\n",
              "      <td>2</td>\n",
              "      <td>woman</td>\n",
              "      <td>False</td>\n",
              "      <td>NaN</td>\n",
              "      <td>Southampton</td>\n",
              "      <td>True</td>\n",
              "      <td>True</td>\n",
              "    </tr>\n",
              "  </tbody>\n",
              "</table>\n",
              "</div>"
            ],
            "text/plain": [
              "     survived  pclass     sex   age  ...  deck  embark_town  alone female\n",
              "105         0       3    male  28.0  ...   NaN  Southampton   True  False\n",
              "68          1       3  female  17.0  ...   NaN  Southampton  False   True\n",
              "253         0       3    male  30.0  ...   NaN  Southampton  False  False\n",
              "320         0       3    male  22.0  ...   NaN  Southampton   True  False\n",
              "706         1       2  female  45.0  ...   NaN  Southampton   True   True\n",
              "\n",
              "[5 rows x 15 columns]"
            ]
          },
          "metadata": {
            "tags": []
          },
          "execution_count": 54
        }
      ]
    },
    {
      "cell_type": "code",
      "metadata": {
        "id": "X42wuOPH4Mmf",
        "colab_type": "code",
        "colab": {
          "base_uri": "https://localhost:8080/",
          "height": 50
        },
        "outputId": "722917f1-e5af-4c25-bfda-ace06dcd1cb5"
      },
      "source": [
        "# Imputing age\n",
        "\n",
        "train.age.fillna(train.age.mean(), inplace=True)\n",
        "test.age.fillna(test.age.mean(), inplace=True)\n",
        "\n",
        "print(train.age.isnull().sum())\n",
        "print(test.age.isnull().sum())"
      ],
      "execution_count": 55,
      "outputs": [
        {
          "output_type": "stream",
          "text": [
            "0\n",
            "0\n"
          ],
          "name": "stdout"
        }
      ]
    },
    {
      "cell_type": "code",
      "metadata": {
        "id": "8St1zrKryib6",
        "colab_type": "code",
        "colab": {
          "base_uri": "https://localhost:8080/",
          "height": 104
        },
        "outputId": "fcefd9e9-4407-4d40-b8d2-9a464bbf2102"
      },
      "source": [
        "#Logistic Regression \n",
        "\n",
        "features = [\"class\", \"female\", \"age\"]\n",
        "\n",
        "model = LogisticRegression()\n",
        "model.fit(train[features], train[target])\n",
        "\n",
        "y_true = train[target]\n",
        "y_pred = model.predict(train[features])\n",
        "print('Train accuracy:', accuracy_score(y_true, y_pred))\n",
        "\n",
        "y_true = test[target]\n",
        "y_pred = model.predict(test[features])\n",
        "print('Test accuracy:', accuracy_score(y_true, y_pred))"
      ],
      "execution_count": 56,
      "outputs": [
        {
          "output_type": "stream",
          "text": [
            "Train accuracy: 0.7964071856287425\n",
            "Test accuracy: 0.7757847533632287\n"
          ],
          "name": "stdout"
        },
        {
          "output_type": "stream",
          "text": [
            "/usr/local/lib/python3.6/dist-packages/sklearn/linear_model/logistic.py:432: FutureWarning: Default solver will be changed to 'lbfgs' in 0.22. Specify a solver to silence this warning.\n",
            "  FutureWarning)\n"
          ],
          "name": "stderr"
        }
      ]
    },
    {
      "cell_type": "code",
      "metadata": {
        "id": "Vwk_Xbgw6Zxo",
        "colab_type": "code",
        "colab": {
          "base_uri": "https://localhost:8080/",
          "height": 50
        },
        "outputId": "deb591d0-4672-484a-e103-aa02a89243c7"
      },
      "source": [
        "# Decision Tree\n",
        "\n",
        "model = DecisionTreeClassifier(max_depth=2)\n",
        "model.fit(train[features], train[target])\n",
        "\n",
        "y_true = train[target]\n",
        "y_pred = model.predict(train[features])\n",
        "print('Train accuracy:', accuracy_score(y_true, y_pred))\n",
        "\n",
        "y_true = test[target]\n",
        "y_pred = model.predict(test[features])\n",
        "print('Test accuracy:', accuracy_score(y_true, y_pred))"
      ],
      "execution_count": 57,
      "outputs": [
        {
          "output_type": "stream",
          "text": [
            "Train accuracy: 0.7949101796407185\n",
            "Test accuracy: 0.7757847533632287\n"
          ],
          "name": "stdout"
        }
      ]
    },
    {
      "cell_type": "markdown",
      "metadata": {
        "id": "lHx9QtTV7t4Q",
        "colab_type": "text"
      },
      "source": [
        "# Random Forest: Attempt 4\n",
        "\n",
        "Same results... will this be the trump card that takes us above 78% test accuracy?"
      ]
    },
    {
      "cell_type": "code",
      "metadata": {
        "id": "OB4-sE4879vc",
        "colab_type": "code",
        "colab": {
          "base_uri": "https://localhost:8080/",
          "height": 50
        },
        "outputId": "0fea229a-5a5b-436a-b30a-49a73218d097"
      },
      "source": [
        "from sklearn.ensemble import RandomForestClassifier\n",
        "\n",
        "features = [\"class\", \"female\", \"age\"]\n",
        "\n",
        "model = RandomForestClassifier(n_estimators=10,max_depth=2)\n",
        "model.fit(train[features], train[target])\n",
        "\n",
        "y_true = train[target]\n",
        "y_pred = model.predict(train[features])\n",
        "print('Train accuracy:', accuracy_score(y_true, y_pred))\n",
        "\n",
        "y_true = test[target]\n",
        "y_pred = model.predict(test[features])\n",
        "print('Test accuracy:', accuracy_score(y_true, y_pred))"
      ],
      "execution_count": 59,
      "outputs": [
        {
          "output_type": "stream",
          "text": [
            "Train accuracy: 0.7994011976047904\n",
            "Test accuracy: 0.820627802690583\n"
          ],
          "name": "stdout"
        }
      ]
    },
    {
      "cell_type": "markdown",
      "metadata": {
        "id": "HMzwM_dj8d28",
        "colab_type": "text"
      },
      "source": [
        "### Wooo! Our random forest model returns 82%  test accuracy using class, female, and age features."
      ]
    }
  ]
}