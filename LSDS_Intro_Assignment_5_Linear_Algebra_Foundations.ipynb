{
  "nbformat": 4,
  "nbformat_minor": 0,
  "metadata": {
    "colab": {
      "name": "Copy of LSDS Intro Assignment 5 - Linear Algebra Foundations.ipynb",
      "version": "0.3.2",
      "provenance": [],
      "collapsed_sections": [],
      "include_colab_link": true
    },
    "kernelspec": {
      "name": "python3",
      "display_name": "Python 3"
    }
  },
  "cells": [
    {
      "cell_type": "markdown",
      "metadata": {
        "id": "view-in-github",
        "colab_type": "text"
      },
      "source": [
        "<a href=\"https://colab.research.google.com/github/sapinspys/lambda-ds-precourse/blob/master/LSDS_Intro_Assignment_5_Linear_Algebra_Foundations.ipynb\" target=\"_parent\"><img src=\"https://colab.research.google.com/assets/colab-badge.svg\" alt=\"Open In Colab\"/></a>"
      ]
    },
    {
      "cell_type": "markdown",
      "metadata": {
        "id": "C6GiJ7ixeOOU",
        "colab_type": "text"
      },
      "source": [
        "#Intro to Data Science Assignment 5\n",
        "##Linear Algebra Foundations\n",
        "\n",
        "For the short answers:\n",
        "     Feel free to do any additional research, but try your best to answer the questions in your own words (don't copy/paste).\n",
        "     \n",
        "For the computations by hand:\n",
        "      If you'd like to use LaTex to make things pretty, by all means give it a try, but it is *optional*. You can answer the questions using algebraic-like notation. For instance if I was adding two vectors:\n",
        "      \n",
        "[1,2] + [2,3] => (1+2), (2+3) => [3,5] \n",
        "\n",
        "**Show your work, not just the answer**\n",
        "\n",
        "For the graphs:\n",
        "   Make them as pretty as you like\n",
        "   \n",
        " For using the tools (numpy):\n",
        "    Use labeled print statements as shown"
      ]
    },
    {
      "cell_type": "markdown",
      "metadata": {
        "id": "yJJdtDoVeiYV",
        "colab_type": "text"
      },
      "source": [
        "#Short Answer Questions\n",
        "\n",
        "1) Describe a vector\n",
        "\n",
        "2) Describe a matrix\n",
        "\n",
        "3) What can we do with vectors?\n",
        "\n",
        "4) What are basis vectors?\n",
        "\n",
        "5) What is an inverse matrix?\n",
        "\n",
        "6) What is the transpose of a matrix?\n",
        "\n",
        "7) SELF-STUDY: What is the determinant of the matrix?\n"
      ]
    },
    {
      "cell_type": "markdown",
      "metadata": {
        "id": "J2okSel_f1lS",
        "colab_type": "text"
      },
      "source": [
        "##Your Answers go here:\n",
        "\n",
        "1) A vector is a given length that also specifies direction\n",
        "\n",
        "2) A matrix is an arrangement of numbers into rows and columns\n",
        "\n",
        "3) You can add and scale vectors\n",
        "\n",
        "4) Basis vectors are the fundamental, linearly independent vectors that can be manipulated with tools to build any other vector\n",
        "\n",
        "5) An inverse matrix equals to the identity matrix divided by a specific square matrix that has a non-zero determinant \n",
        "\n",
        "6) A transpose of a matrix is a matrix that has had its rows swapped to columns or vise versa\n",
        "\n",
        "7) The determinant of a matrix is the factor that represents how a matrix will transform an area in space and calculated by multiplying the diagonals and subtracting the second diagonal from the first"
      ]
    },
    {
      "cell_type": "markdown",
      "metadata": {
        "id": "Lb-jyiXZgHfH",
        "colab_type": "text"
      },
      "source": [
        "#Computations by hand\n",
        "\n",
        "1) $ \\begin {bmatrix} 1 \\\\ 3 \\\\ 4 \\end {bmatrix} + \\begin {bmatrix} 4 \\\\ 2 \\\\ 6 \\end {bmatrix} $\n",
        "\n",
        "2) $ 5 \\begin {bmatrix} 1 \\\\ 2 \\\\ 3 \\end{bmatrix} $\n",
        "\n",
        "3) $ \\begin {bmatrix} 1  &  3\\\\ 2 & 3  \\end{bmatrix} \\begin {bmatrix} 1 \\\\ 2 \\end{bmatrix} $\n",
        "\n",
        "4) $ \\begin {bmatrix} 1  &  3\\\\ 2 & 3 \\end{bmatrix} \\begin {bmatrix} 2 & 2 \\\\ 3 & 1 \\end{bmatrix} $\n",
        "\n",
        "5) What is the transpose of :\n",
        "\n",
        "$ \\begin{bmatrix} 1 & 4 \\\\ 2 & 5 \\\\ 3 & 6 \\end{bmatrix} $ \n",
        "\n",
        "6) What is the determinant of:\n",
        "\n",
        " $\\begin {bmatrix} 2 & 2 \\\\ 3 & 1 \\end{bmatrix}$\n",
        " \n",
        " 7) What is the inverse matrix of: \n",
        " \n",
        "  $\\begin {bmatrix} 3 & 2 \\\\ 1 & 2 \\end{bmatrix}$"
      ]
    },
    {
      "cell_type": "markdown",
      "metadata": {
        "id": "LdnLfusWjcZQ",
        "colab_type": "text"
      },
      "source": [
        "## Your Answers go here:\n",
        "\n",
        "1) $ \\begin {bmatrix} 5 \\\\ 5 \\\\ 10 \\end {bmatrix} $\n",
        "\n",
        "2)  $ \\begin {bmatrix} 5 \\\\ 10 \\\\ 15 \\end {bmatrix} $\n",
        "\n",
        "3) (1x1 + 3x2) = 7\n",
        "\n",
        "(2x1 + 3x2) = 8 \n",
        " \n",
        " $ \\begin {bmatrix} 7 \\\\ 8 \\end {bmatrix} $\n",
        "\n",
        "4) (1x2 + 3x3) = 11 \n",
        "\n",
        "(1x2 + 3x1) = 5\n",
        "\n",
        "(2x2 + 3x3) = 13\n",
        "\n",
        "(2x2 + 3x1) = 7\n",
        "\n",
        "$ \\begin {bmatrix} 11  &  5\\\\ 13 & 7 \\end{bmatrix}$\n",
        "\n",
        "5) $ \\begin{bmatrix} 1 & 2 & 3 \\\\ 4 & 5 & 6 \\end{bmatrix} $ \n",
        "\n",
        "6) (2x1) - (2x3) = -4\n",
        "\n",
        "7) det = (3x2) - (2x1) = 4\n",
        "\n",
        "(1/4) x $\\begin {bmatrix} 2 & -2 \\\\ -1 & 3 \\end{bmatrix}$ = $\\begin {bmatrix} 0.5 & -0.5 \\\\ -0.25 & 0.75 \\end{bmatrix}$ "
      ]
    },
    {
      "cell_type": "markdown",
      "metadata": {
        "id": "B7q5osaBjo10",
        "colab_type": "text"
      },
      "source": [
        "##Visualize the Vectors\n",
        "\n",
        "Graph the following:\n",
        "\n",
        "  Vector v_1 = [1,0] \n",
        "  \n",
        "  Vector v_2 = v_1 scaled by 2\n",
        "  \n",
        "  Vector v_3 = [0,-1]\n",
        "  \n",
        "  Vector v_4 = the sum of v_2 and v_3\n",
        " "
      ]
    },
    {
      "cell_type": "code",
      "metadata": {
        "id": "uy65IMqbeNKw",
        "colab_type": "code",
        "colab": {
          "base_uri": "https://localhost:8080/",
          "height": 281
        },
        "outputId": "62670358-1ce9-46f1-a336-94ae1b0a592a"
      },
      "source": [
        "import matplotlib.pyplot as plt\n",
        "\n",
        "v_1 = [1, 0]\n",
        "v_2 = list(map(lambda v:v*2, v_1)) #[2, 0]\n",
        "v_3 = [0, -1]\n",
        "v_4 = [v_2[0] + v_3[0], v_2[1] + v_3[1]]\n",
        "\n",
        "vector_1 = plt.arrow(0,0, v_1[0], v_1[1], head_width=.15,\n",
        "          head_length=0.25, color = 'y', zorder=2 , label=\"Vector 1\")\n",
        "vector_2 = plt.arrow(0,0, v_2[0], v_2[1], head_width=.15,\n",
        "          head_length=0.25, color = 'b', label=\"Vector 2\")\n",
        "vector_3 = plt.arrow(0,0, v_3[0], v_3[1], head_width=.15,\n",
        "          head_length=0.25, color = 'g', label=\"Vector 3\")\n",
        "vector_4 = plt.arrow(0,0, v_4[0], v_4[1], head_width=.15,\n",
        "          head_length=0.25, color = 'purple', label=\"Vector 4\")\n",
        "plt.title(\"Vector Visualization\")\n",
        "plt.axis([-3, 3, -3, 3])\n",
        "plt.axhline(y=0, color='k', alpha=0.75, zorder=-1)\n",
        "plt.axvline(x=0, color='k', alpha=0.75, zorder=-1)\n",
        "plt.grid(alpha=0.7)\n",
        "plt.legend(handles=[vector_1, vector_2, vector_3, vector_4])\n",
        "plt.show()"
      ],
      "execution_count": 49,
      "outputs": [
        {
          "output_type": "display_data",
          "data": {
            "image/png": "[encoded data removed]",
            "text/plain": [
              "<Figure size 432x288 with 1 Axes>"
            ]
          },
          "metadata": {
            "tags": []
          }
        }
      ]
    },
    {
      "cell_type": "markdown",
      "metadata": {
        "id": "jWDov3LvlF9C",
        "colab_type": "text"
      },
      "source": [
        "## Graph the Matrix\n",
        "\n",
        "Graph the columns and rows of this matrix: \n",
        " $\\begin {bmatrix} 2 & 2 \\\\ 3 & 1 \\end{bmatrix}$"
      ]
    },
    {
      "cell_type": "code",
      "metadata": {
        "id": "Vru0b8zOlEUQ",
        "colab_type": "code",
        "colab": {
          "base_uri": "https://localhost:8080/",
          "height": 67
        },
        "outputId": "c73ae7b5-6091-427c-9f27-0137986e9a8c"
      },
      "source": [
        "import numpy as np\n",
        "\n",
        "m_1 = np.matrix('2 2; 3 1')\n",
        "print('m_1 \\n', m_1)"
      ],
      "execution_count": 29,
      "outputs": [
        {
          "output_type": "stream",
          "text": [
            "m_1 \n",
            " [[2 2]\n",
            " [3 1]]\n"
          ],
          "name": "stdout"
        }
      ]
    },
    {
      "cell_type": "code",
      "metadata": {
        "id": "FzxDv6f-GJ5A",
        "colab_type": "code",
        "colab": {
          "base_uri": "https://localhost:8080/",
          "height": 281
        },
        "outputId": "97d36cc7-dc04-4b17-c683-bdc7108556b6"
      },
      "source": [
        "plt.axis([0,5,0,5])\n",
        "plt.arrow(0,0, m_1[0,0], m_1[1,0], head_width=.1, head_length=.25, color = \"b\")\n",
        "plt.arrow(0,0, m_1[0,1], m_1[1,1], head_width=.1, head_length=.25, color = \"g\")\n",
        "plt.fill([0,2,4,2],[0,3,4,1], alpha = .5)\n",
        "plt.grid(alpha=0.7)\n",
        "plt.title(\"Matrix Visualization\")\n",
        "plt.show()"
      ],
      "execution_count": 51,
      "outputs": [
        {
          "output_type": "display_data",
          "data": {
            "image/png": "[encoded data removed]",
            "text/plain": [
              "<Figure size 432x288 with 1 Axes>"
            ]
          },
          "metadata": {
            "tags": []
          }
        }
      ]
    },
    {
      "cell_type": "markdown",
      "metadata": {
        "id": "QbBhyPwhlggH",
        "colab_type": "text"
      },
      "source": [
        "## Using the tools: NumPy Edition\n",
        "\n",
        "Use the NumPy library to compute the \"Computations by Hand\" section. Make sure to print each answer and label your print statement"
      ]
    },
    {
      "cell_type": "markdown",
      "metadata": {
        "id": "w-siNai4JAFb",
        "colab_type": "text"
      },
      "source": [
        "1) $ \\begin {bmatrix} 1 \\\\ 3 \\\\ 4 \\end {bmatrix} + \\begin {bmatrix} 4 \\\\ 2 \\\\ 6 \\end {bmatrix} $\n",
        "\n",
        "2) $ 5 \\begin {bmatrix} 1 \\\\ 2 \\\\ 3 \\end{bmatrix} $\n",
        "\n",
        "3) $ \\begin {bmatrix} 1  &  3\\\\ 2 & 3  \\end{bmatrix} \\begin {bmatrix} 1 \\\\ 2 \\end{bmatrix} $\n",
        "\n",
        "4) $ \\begin {bmatrix} 1  &  3\\\\ 2 & 3 \\end{bmatrix} \\begin {bmatrix} 2 & 2 \\\\ 3 & 1 \\end{bmatrix} $\n",
        "\n",
        "5) What is the transpose of :\n",
        "\n",
        "$ \\begin{bmatrix} 1 & 4 \\\\ 2 & 5 \\\\ 3 & 6 \\end{bmatrix} $ \n",
        "\n",
        "6) What is the determinant of:\n",
        "\n",
        " $\\begin {bmatrix} 2 & 2 \\\\ 3 & 1 \\end{bmatrix}$\n",
        " \n",
        " 7) What is the inverse matrix of: \n",
        " \n",
        "  $\\begin {bmatrix} 3 & 2 \\\\ 1 & 2 \\end{bmatrix}$"
      ]
    },
    {
      "cell_type": "code",
      "metadata": {
        "id": "JcjUoEANlf8Q",
        "colab_type": "code",
        "outputId": "ee6302e8-fe2b-4f16-a572-7b19c292d7e9",
        "colab": {
          "base_uri": "https://localhost:8080/",
          "height": 686
        }
      },
      "source": [
        "v_0 = [1,3,4]\n",
        "v_1 = [4,2,6]\n",
        "print(f\"1) v_0 = {v_0}\\nv_1 = {v_1}\\nv_0 + v_1 = {list(np.add(v_0, v_1))}\\n\")\n",
        "\n",
        "v_2 = [1,2,3]\n",
        "print(f\"2) v_2 = {v_2}\\n5 * v_2 = {list(np.multiply(5, v_2))}\\n\")\n",
        "\n",
        "m_1 = np.matrix('1 3; 2 3')\n",
        "v_3 = [1,2]\n",
        "print(f\"3) m_1 =\\n{m_1}\\nv_3 = {v_3}\\nm_1 * v_3 = {np.dot(m_1,v_3)}\\n\")\n",
        "\n",
        "m_2 = np.matrix(\"2 2; 3 1\")\n",
        "print(f\"4) m_2 =\\n{m_2}\\nm_1 * m_2 =\\n{np.dot(m_1,m_2)}\\n\")\n",
        "\n",
        "m_3 = np.matrix(\"1 4; 2 5; 3 6\")\n",
        "print(f\"5) m_3 =\\n{m_3}\\nTranspose of m_3:\\n{m_3.transpose()}\\n\")\n",
        "\n",
        "print(f\"6) Determinant of m_2: {np.linalg.det(m_2)}\\n\")\n",
        "\n",
        "m_4 = np.matrix(\"3 2; 1 2\")\n",
        "m_4_inv = np.linalg.inv(m_4)\n",
        "print(f'7) m_4 =\\n{m_4}\\nInverse of m_4:\\n {m_4_inv}\\n')\n",
        "print('Checking for identity:\\n',np.matmul(m_4, m_4_inv))"
      ],
      "execution_count": 106,
      "outputs": [
        {
          "output_type": "stream",
          "text": [
            "1) v_0 = [1, 3, 4]\n",
            "v_1 = [4, 2, 6]\n",
            "v_0 + v_1 = [5, 5, 10]\n",
            "\n",
            "2) v_2 = [1, 2, 3]\n",
            "5 * v_2 = [5, 10, 15]\n",
            "\n",
            "3) m_1 =\n",
            "[[1 3]\n",
            " [2 3]]\n",
            "v_3 = [1, 2]\n",
            "m_1 * v_3 = [[7 8]]\n",
            "\n",
            "4) m_2 =\n",
            "[[2 2]\n",
            " [3 1]]\n",
            "m_1 * m_2 =\n",
            "[[11  5]\n",
            " [13  7]]\n",
            "\n",
            "5) m_3 =\n",
            "[[1 4]\n",
            " [2 5]\n",
            " [3 6]]\n",
            "Transpose of m_3:\n",
            "[[1 2 3]\n",
            " [4 5 6]]\n",
            "\n",
            "6) Determinant of m_2: -4.000000000000001\n",
            "\n",
            "7) m_4 =\n",
            "[[3 2]\n",
            " [1 2]]\n",
            "Inverse of m_4:\n",
            " [[ 0.5  -0.5 ]\n",
            " [-0.25  0.75]]\n",
            "\n",
            "Checking for identity:\n",
            " [[1.00000000e+00 2.22044605e-16]\n",
            " [1.11022302e-16 1.00000000e+00]]\n"
          ],
          "name": "stdout"
        }
      ]
    }
  ]
}