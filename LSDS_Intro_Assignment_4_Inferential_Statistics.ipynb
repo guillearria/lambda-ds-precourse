{
  "nbformat": 4,
  "nbformat_minor": 0,
  "metadata": {
    "colab": {
      "name": "Copy of LSDS Intro Assignment 4 - Inferential Statistics.ipynb",
      "version": "0.3.2",
      "provenance": [],
      "collapsed_sections": [],
      "include_colab_link": true
    },
    "kernelspec": {
      "display_name": "Python 3",
      "language": "python",
      "name": "python3"
    }
  },
  "cells": [
    {
      "cell_type": "markdown",
      "metadata": {
        "id": "view-in-github",
        "colab_type": "text"
      },
      "source": [
        "<a href=\"https://colab.research.google.com/github/sapinspys/lambda-ds-precourse/blob/master/LSDS_Intro_Assignment_4_Inferential_Statistics.ipynb\" target=\"_parent\"><img src=\"https://colab.research.google.com/assets/colab-badge.svg\" alt=\"Open In Colab\"/></a>"
      ]
    },
    {
      "cell_type": "markdown",
      "metadata": {
        "id": "LSwe_aflLNyk",
        "colab_type": "text"
      },
      "source": [
        "# Lambda School, Intro to Data Science, Day 4\n",
        "\n",
        "## Inferential Statistics Assignment"
      ]
    },
    {
      "cell_type": "code",
      "metadata": {
        "id": "i19U8PYQLNym",
        "colab_type": "code",
        "colab": {}
      },
      "source": [
        "%matplotlib inline\n",
        "import matplotlib.pyplot as plt\n",
        "import pandas as pd\n",
        "import random\n",
        "from statistics import mean, stdev, median, mode"
      ],
      "execution_count": 0,
      "outputs": []
    },
    {
      "cell_type": "markdown",
      "metadata": {
        "id": "Gi1JCNi1LNyp",
        "colab_type": "text"
      },
      "source": [
        "# Titanic\n",
        "\n",
        "Use the [`describe` function in pandas](https://pandas.pydata.org/pandas-docs/stable/generated/pandas.DataFrame.describe.html) to calculate summary statistics (including mean and standard deviation) for `age` and `fare`.\n",
        "\n",
        "Think, and be ready to discuss: How do these two features compare in their central tendency and in their spread?"
      ]
    },
    {
      "cell_type": "code",
      "metadata": {
        "id": "r2ZTA_lILNyq",
        "colab_type": "code",
        "outputId": "2a2952b4-5180-47c7-c63b-19aadbcb3bb5",
        "colab": {
          "base_uri": "https://localhost:8080/",
          "height": 216
        }
      },
      "source": [
        "df = pd.read_csv('https://raw.githubusercontent.com/ryanleeallred/datasets/master/titanic.csv', index_col=0)\n",
        "features = ['age', 'fare']\n",
        "df.dropna(subset=features, inplace=True)\n",
        "df.head()"
      ],
      "execution_count": 45,
      "outputs": [
        {
          "output_type": "execute_result",
          "data": {
            "text/html": [
              "<div>\n",
              "<style scoped>\n",
              "    .dataframe tbody tr th:only-of-type {\n",
              "        vertical-align: middle;\n",
              "    }\n",
              "\n",
              "    .dataframe tbody tr th {\n",
              "        vertical-align: top;\n",
              "    }\n",
              "\n",
              "    .dataframe thead th {\n",
              "        text-align: right;\n",
              "    }\n",
              "</style>\n",
              "<table border=\"1\" class=\"dataframe\">\n",
              "  <thead>\n",
              "    <tr style=\"text-align: right;\">\n",
              "      <th></th>\n",
              "      <th>survived</th>\n",
              "      <th>pclass</th>\n",
              "      <th>sex</th>\n",
              "      <th>age</th>\n",
              "      <th>sibsp</th>\n",
              "      <th>parch</th>\n",
              "      <th>fare</th>\n",
              "      <th>embarked</th>\n",
              "      <th>class</th>\n",
              "      <th>who</th>\n",
              "      <th>adult_male</th>\n",
              "      <th>deck</th>\n",
              "      <th>embark_town</th>\n",
              "      <th>alive</th>\n",
              "      <th>alone</th>\n",
              "    </tr>\n",
              "  </thead>\n",
              "  <tbody>\n",
              "    <tr>\n",
              "      <th>0</th>\n",
              "      <td>0</td>\n",
              "      <td>3</td>\n",
              "      <td>male</td>\n",
              "      <td>22.0</td>\n",
              "      <td>1</td>\n",
              "      <td>0</td>\n",
              "      <td>7.2500</td>\n",
              "      <td>S</td>\n",
              "      <td>Third</td>\n",
              "      <td>man</td>\n",
              "      <td>True</td>\n",
              "      <td>NaN</td>\n",
              "      <td>Southampton</td>\n",
              "      <td>no</td>\n",
              "      <td>False</td>\n",
              "    </tr>\n",
              "    <tr>\n",
              "      <th>1</th>\n",
              "      <td>1</td>\n",
              "      <td>1</td>\n",
              "      <td>female</td>\n",
              "      <td>38.0</td>\n",
              "      <td>1</td>\n",
              "      <td>0</td>\n",
              "      <td>71.2833</td>\n",
              "      <td>C</td>\n",
              "      <td>First</td>\n",
              "      <td>woman</td>\n",
              "      <td>False</td>\n",
              "      <td>C</td>\n",
              "      <td>Cherbourg</td>\n",
              "      <td>yes</td>\n",
              "      <td>False</td>\n",
              "    </tr>\n",
              "    <tr>\n",
              "      <th>2</th>\n",
              "      <td>1</td>\n",
              "      <td>3</td>\n",
              "      <td>female</td>\n",
              "      <td>26.0</td>\n",
              "      <td>0</td>\n",
              "      <td>0</td>\n",
              "      <td>7.9250</td>\n",
              "      <td>S</td>\n",
              "      <td>Third</td>\n",
              "      <td>woman</td>\n",
              "      <td>False</td>\n",
              "      <td>NaN</td>\n",
              "      <td>Southampton</td>\n",
              "      <td>yes</td>\n",
              "      <td>True</td>\n",
              "    </tr>\n",
              "    <tr>\n",
              "      <th>3</th>\n",
              "      <td>1</td>\n",
              "      <td>1</td>\n",
              "      <td>female</td>\n",
              "      <td>35.0</td>\n",
              "      <td>1</td>\n",
              "      <td>0</td>\n",
              "      <td>53.1000</td>\n",
              "      <td>S</td>\n",
              "      <td>First</td>\n",
              "      <td>woman</td>\n",
              "      <td>False</td>\n",
              "      <td>C</td>\n",
              "      <td>Southampton</td>\n",
              "      <td>yes</td>\n",
              "      <td>False</td>\n",
              "    </tr>\n",
              "    <tr>\n",
              "      <th>4</th>\n",
              "      <td>0</td>\n",
              "      <td>3</td>\n",
              "      <td>male</td>\n",
              "      <td>35.0</td>\n",
              "      <td>0</td>\n",
              "      <td>0</td>\n",
              "      <td>8.0500</td>\n",
              "      <td>S</td>\n",
              "      <td>Third</td>\n",
              "      <td>man</td>\n",
              "      <td>True</td>\n",
              "      <td>NaN</td>\n",
              "      <td>Southampton</td>\n",
              "      <td>no</td>\n",
              "      <td>True</td>\n",
              "    </tr>\n",
              "  </tbody>\n",
              "</table>\n",
              "</div>"
            ],
            "text/plain": [
              "   survived  pclass     sex   age  ...  deck  embark_town  alive  alone\n",
              "0         0       3    male  22.0  ...   NaN  Southampton     no  False\n",
              "1         1       1  female  38.0  ...     C    Cherbourg    yes  False\n",
              "2         1       3  female  26.0  ...   NaN  Southampton    yes   True\n",
              "3         1       1  female  35.0  ...     C  Southampton    yes  False\n",
              "4         0       3    male  35.0  ...   NaN  Southampton     no   True\n",
              "\n",
              "[5 rows x 15 columns]"
            ]
          },
          "metadata": {
            "tags": []
          },
          "execution_count": 45
        }
      ]
    },
    {
      "cell_type": "code",
      "metadata": {
        "id": "N04bFF3PLNys",
        "colab_type": "code",
        "outputId": "b91e5ef3-8789-4378-eed3-fc4289f0b0a3",
        "colab": {
          "base_uri": "https://localhost:8080/",
          "height": 518
        }
      },
      "source": [
        "print(f\"**Feature 1, Age** \\n\\nmedian: {median(df[features[0]])}\\nmode: {mode(df[features[0]])}\\n\\n{df[features[0]].describe()}\\n\")\n",
        "print(f\"**Feature 2, Fare** \\n\\nmedian: {median(df[features[1]])}\\nmode: {mode(df[features[1]])}\\n\\n{df[features[1]].describe()}\\n\")"
      ],
      "execution_count": 46,
      "outputs": [
        {
          "output_type": "stream",
          "text": [
            "**Feature 1, Age** \n",
            "\n",
            "median: 28.0\n",
            "mode: 24.0\n",
            "\n",
            "count    714.000000\n",
            "mean      29.699118\n",
            "std       14.526497\n",
            "min        0.420000\n",
            "25%       20.125000\n",
            "50%       28.000000\n",
            "75%       38.000000\n",
            "max       80.000000\n",
            "Name: age, dtype: float64\n",
            "\n",
            "**Feature 2, Fare** \n",
            "\n",
            "median: 15.7417\n",
            "mode: 13.0\n",
            "\n",
            "count    714.000000\n",
            "mean      34.694514\n",
            "std       52.918930\n",
            "min        0.000000\n",
            "25%        8.050000\n",
            "50%       15.741700\n",
            "75%       33.375000\n",
            "max      512.329200\n",
            "Name: fare, dtype: float64\n",
            "\n"
          ],
          "name": "stdout"
        }
      ]
    },
    {
      "cell_type": "markdown",
      "metadata": {
        "id": "dfFb3yzjLNyu",
        "colab_type": "text"
      },
      "source": [
        "Plot histograms for both features.\n",
        "\n",
        "Think, and be ready to discuss: What do you notice about the shape of these distributions?"
      ]
    },
    {
      "cell_type": "code",
      "metadata": {
        "id": "K2M9twlfLNyu",
        "colab_type": "code",
        "outputId": "bd5b20fb-35e9-4a09-f99f-bc2054bd1b5b",
        "colab": {
          "base_uri": "https://localhost:8080/",
          "height": 294
        }
      },
      "source": [
        "plt.hist(df[features[0]], bins=30, alpha=0.7, rwidth=0.85)\n",
        "plt.xlabel('Age (Yrs)')\n",
        "plt.ylabel('Frequency')\n",
        "plt.title('Histogram of Age')\n",
        "plt.grid(axis='y', alpha=0.75)\n",
        "plt.show()\n",
        "\n",
        "# Our age data is positively skewed"
      ],
      "execution_count": 47,
      "outputs": [
        {
          "output_type": "display_data",
          "data": {
            "image/png": "[encoded data removed]",
            "text/plain": [
              "<Figure size 432x288 with 1 Axes>"
            ]
          },
          "metadata": {
            "tags": []
          }
        }
      ]
    },
    {
      "cell_type": "code",
      "metadata": {
        "id": "He1QDkWXLNyw",
        "colab_type": "code",
        "outputId": "4613c8ad-f6fa-4d38-8da9-85dcb156fc76",
        "colab": {
          "base_uri": "https://localhost:8080/",
          "height": 294
        }
      },
      "source": [
        "plt.hist(df[features[1]], bins=30, alpha=0.7, rwidth=0.85)\n",
        "plt.xlabel('Fare ($)')\n",
        "plt.ylabel('Frequency')\n",
        "plt.title('Histogram of Fare')\n",
        "plt.grid(axis='y', alpha=0.75)\n",
        "plt.show()\n",
        "\n",
        "# Our fare data is also positively skewed"
      ],
      "execution_count": 48,
      "outputs": [
        {
          "output_type": "display_data",
          "data": {
            "image/png": "[encoded data removed]",
            "text/plain": [
              "<Figure size 432x288 with 1 Axes>"
            ]
          },
          "metadata": {
            "tags": []
          }
        }
      ]
    },
    {
      "cell_type": "markdown",
      "metadata": {
        "id": "5cXkMdm-LNyz",
        "colab_type": "text"
      },
      "source": [
        "# Clumsy Carl\n",
        "\n",
        "Re-do the Clumsy Carl problem -- but suppose that Carl broke **2** of 5 dishes. What's the p-value?\n",
        "\n",
        "Think, and be ready to discuss: Would you reject the null hypothesis?\n",
        "\n",
        "Suggestion: You can look at the lecture notebook, but **don't copy-paste** from it!\n",
        "\n",
        "> You must type each of these exercises in, manually. If you copy and paste, you might as well not even do them. The point of these exercises is to train your hands, your brain, and your mind in how to read, write, and see code. If you copy-paste, you are cheating yourself out of the effectiveness of the lessons. —*[Learn Python the Hard Way](https://learnpythonthehardway.org/book/intro.html)*\n",
        "\n",
        "---\n",
        "\n",
        "Here's the problem restated:\n",
        "\n",
        "Imagine a restaurant employs five dishwashers:\n",
        "- Alice\n",
        "- Bob\n",
        "- Carl\n",
        "- Dave\n",
        "- Eric\n",
        "\n",
        "One week, they break five dishes -- and Carl breaks **two** of the five. So, his coworkers have a hypothesis: Carl is clumsy!\n",
        "\n",
        "Carl says no, it was just bad luck and random chance: it could have happened to anybody. We can call this the null hypothesis.\n",
        "\n",
        "Can we do some math to help answer this argument? What's the probability it was just bad luck?\n",
        "\n",
        "We can write a Monte Carlo simulation to estimate the probability that Carl breaks at least four of the five dishes, assuming that breaking a dish is a truly random event. (We'll assume that the dishwashers have identical workloads and skills.)\n"
      ]
    },
    {
      "cell_type": "code",
      "metadata": {
        "id": "5IdSBJnmLNy0",
        "colab_type": "code",
        "colab": {}
      },
      "source": [
        "dishwashers = ['Alice', 'Bob', 'Carl', 'Dave', 'Eric']"
      ],
      "execution_count": 0,
      "outputs": []
    },
    {
      "cell_type": "code",
      "metadata": {
        "id": "etpy-I1ILNy2",
        "colab_type": "code",
        "outputId": "a1202f19-225e-4c66-8131-1122ef946dfd",
        "colab": {
          "base_uri": "https://localhost:8080/",
          "height": 294
        }
      },
      "source": [
        "# Python's list comprehension is awesome!\n",
        "# print([random.choice(dishwashers) for broken_dish in range(5)])\n",
        "\n",
        "def experiment():\n",
        "  breakers = [random.choice(dishwashers) for broken_dish in range(5)]\n",
        "  return breakers.count('Carl')\n",
        "\n",
        "results = [experiment() for x in range(10000)]\n",
        "\n",
        "plt.hist(results, bins=15, alpha=0.7, rwidth=0.85)\n",
        "plt.xlabel('Dishes Broken by Carl (Weekly)')\n",
        "plt.ylabel('Frequency')\n",
        "plt.title(\"Histogram of Carl's Dish Breaking\")\n",
        "plt.grid(axis='y', alpha=0.75)\n",
        "plt.show()"
      ],
      "execution_count": 50,
      "outputs": [
        {
          "output_type": "display_data",
          "data": {
            "image/png": "[encoded data removed]",
            "text/plain": [
              "<Figure size 432x288 with 1 Axes>"
            ]
          },
          "metadata": {
            "tags": []
          }
        }
      ]
    },
    {
      "cell_type": "code",
      "metadata": {
        "id": "Je7w3fTwVpIe",
        "colab_type": "code",
        "outputId": "ab084908-385f-48ea-e244-27c41e1f0d62",
        "colab": {
          "base_uri": "https://localhost:8080/",
          "height": 67
        }
      },
      "source": [
        "# Standard Score, z-score, of Carl breaking 2 dishes:\n",
        "\n",
        "standard_score = (2 - mean(results))/stdev(results)\n",
        "print(standard_score)\n",
        "\n",
        "# How often Carl breaks 2+ dishes per week\n",
        "\n",
        "print(f\"{sum(result >= 2 for result in results)} weeks out of {len(results)} weeks\")\n",
        "print(f\"{round((sum(result >= 2 for result in results)/len(results))*100, 2)}%\")"
      ],
      "execution_count": 51,
      "outputs": [
        {
          "output_type": "stream",
          "text": [
            "1.1135556190286269\n",
            "2635 weeks out of 10000 weeks\n",
            "26.35%\n"
          ],
          "name": "stdout"
        }
      ]
    },
    {
      "cell_type": "code",
      "metadata": {
        "id": "n_49E3Q1Xqch",
        "colab_type": "code",
        "outputId": "1a76f284-fdbc-44d8-e813-ceeea7c71599",
        "colab": {
          "base_uri": "https://localhost:8080/",
          "height": 50
        }
      },
      "source": [
        "'''The above percentage is also known as the p-value and is technically \n",
        "defined as the probability of getting results at least as extreme as the\n",
        "ones you observed, given that the null hypothesis is correct'''\n",
        "\n",
        "p_value = mean(result >= 2 for result in results)\n",
        "print(p_value)\n",
        "\n",
        "# We reject the null hypothesis (the skeptic) if p-value < 0.05\n",
        "\n",
        "if p_value < 0.05:\n",
        "  print(\"We reject the null hypothesis\")\n",
        "else:\n",
        "  print(\"We do not reject the null hypothesis\")"
      ],
      "execution_count": 65,
      "outputs": [
        {
          "output_type": "stream",
          "text": [
            "1\n",
            "We do not reject the null hypothesis\n"
          ],
          "name": "stdout"
        }
      ]
    },
    {
      "cell_type": "markdown",
      "metadata": {
        "id": "lbuNLuPVLNy4",
        "colab_type": "text"
      },
      "source": [
        "# Two dice\n",
        "\n",
        "Simulate the distribution of adding two dice.\n",
        "\n",
        "What is the mean? Standard deviation?"
      ]
    },
    {
      "cell_type": "code",
      "metadata": {
        "id": "Cn1yEJDQLNy5",
        "colab_type": "code",
        "colab": {
          "base_uri": "https://localhost:8080/",
          "height": 328
        },
        "outputId": "71219a47-4e05-4b3d-e1ed-683aad97779e"
      },
      "source": [
        "# Simulating rolling two dice to create our data set\n",
        "\n",
        "def roll_two_dice(sides=6, rolls=100):\n",
        "  return [(random.randint(1, sides)+random.randint(1, sides)) for x in range(rolls)]\n",
        "\n",
        "results = roll_two_dice(6, 100000)\n",
        "\n",
        "plt.hist(results, bins=20, alpha=0.7, rwidth=0.85)\n",
        "plt.xlabel('Total Roll Value')\n",
        "plt.ylabel('Frequency')\n",
        "plt.title(\"Histogram of Rolling Two Dice\")\n",
        "plt.grid(axis='y', alpha=0.75)\n",
        "plt.show()\n",
        "\n",
        "\n",
        "print(f\"Mean: {mean(results)}\\nStandard Deviation: {stdev(results)}\")\n"
      ],
      "execution_count": 60,
      "outputs": [
        {
          "output_type": "display_data",
          "data": {
            "image/png": "[encoded data removed]",
            "text/plain": [
              "<Figure size 432x288 with 1 Axes>"
            ]
          },
          "metadata": {
            "tags": []
          }
        },
        {
          "output_type": "stream",
          "text": [
            "Mean: 6.99218\n",
            "Standard Deviation: 2.4177421910478842\n"
          ],
          "name": "stdout"
        }
      ]
    },
    {
      "cell_type": "markdown",
      "metadata": {
        "id": "8Q0iMN5-LNy7",
        "colab_type": "text"
      },
      "source": [
        "What is the standard score (z score) of rolling a 10?"
      ]
    },
    {
      "cell_type": "code",
      "metadata": {
        "id": "9kOLJtxjLNy7",
        "colab_type": "code",
        "colab": {
          "base_uri": "https://localhost:8080/",
          "height": 33
        },
        "outputId": "4eb26359-9871-4eb2-cd3e-5323748d979d"
      },
      "source": [
        "standard_score = (10 - mean(results))/stdev(results)\n",
        "print(standard_score)"
      ],
      "execution_count": 55,
      "outputs": [
        {
          "output_type": "stream",
          "text": [
            "1.232332545926191\n"
          ],
          "name": "stdout"
        }
      ]
    },
    {
      "cell_type": "markdown",
      "metadata": {
        "id": "OXVQVpV0LNy-",
        "colab_type": "text"
      },
      "source": [
        "What is the probability of rolling a 10 or higher?"
      ]
    },
    {
      "cell_type": "code",
      "metadata": {
        "id": "YfWhW40YLNy_",
        "colab_type": "code",
        "colab": {
          "base_uri": "https://localhost:8080/",
          "height": 50
        },
        "outputId": "dda550be-5df7-45d3-b3b0-6b53a5f66ca8"
      },
      "source": [
        "print(f\"{sum(result >= 10 for result in results)} times out of {len(results)} rolls\")\n",
        "print(f\"{round((sum(result >= 10 for result in results)/len(results))*100, 2)}% chance to roll a 10 or higher\")"
      ],
      "execution_count": 63,
      "outputs": [
        {
          "output_type": "stream",
          "text": [
            "16647 times out of 100000 rolls\n",
            "16.65% chance to roll a 10 or higher\n"
          ],
          "name": "stdout"
        }
      ]
    },
    {
      "cell_type": "markdown",
      "metadata": {
        "id": "p8zeToPqLNzB",
        "colab_type": "text"
      },
      "source": [
        "# Harvest"
      ]
    },
    {
      "cell_type": "markdown",
      "metadata": {
        "id": "xf08Iq7uLNzC",
        "colab_type": "text"
      },
      "source": [
        "Using bootstrap resampling, calculate the 95% confidence interval for mean apple weight ..."
      ]
    },
    {
      "cell_type": "code",
      "metadata": {
        "id": "9pjuLKH5LNzC",
        "colab_type": "code",
        "colab": {}
      },
      "source": [
        "def bootstrap_sample(items):\n",
        "    # Random resample *with replacement*\n",
        "    return random.choices(items, k=len(items))\n",
        "\n",
        "def percentile(x, p):\n",
        "    # x: List of numbers\n",
        "    # p: Percentile, between 0 and 100\n",
        "    i = round(len(x) * p/100)\n",
        "    return sorted(x)[i]\n",
        "\n",
        "apples = [.5, .4, .5, .6, .3, .7]"
      ],
      "execution_count": 0,
      "outputs": []
    },
    {
      "cell_type": "code",
      "metadata": {
        "id": "khfyPC0ULNzD",
        "colab_type": "code",
        "colab": {
          "base_uri": "https://localhost:8080/",
          "height": 33
        },
        "outputId": "f23eadac-2158-4c3f-c205-96cbe62faa1f"
      },
      "source": [
        "means = [mean(bootstrap_sample(apples)) for x in range(10000)]\n",
        "print(percentile(means, 5), percentile(means, 95))"
      ],
      "execution_count": 69,
      "outputs": [
        {
          "output_type": "stream",
          "text": [
            "0.41666666666666663 0.5833333333333333\n"
          ],
          "name": "stdout"
        }
      ]
    },
    {
      "cell_type": "markdown",
      "metadata": {
        "id": "xsqjoIYJLNzH",
        "colab_type": "text"
      },
      "source": [
        "... and for mean pumpkin weight:"
      ]
    },
    {
      "cell_type": "code",
      "metadata": {
        "id": "nqXdG9hQLNzH",
        "colab_type": "code",
        "colab": {}
      },
      "source": [
        "pumpkins = [1, 1, 1, 3, 3, 591]"
      ],
      "execution_count": 0,
      "outputs": []
    },
    {
      "cell_type": "code",
      "metadata": {
        "id": "c65JnpNHLNzI",
        "colab_type": "code",
        "colab": {
          "base_uri": "https://localhost:8080/",
          "height": 33
        },
        "outputId": "7d95eea0-8820-410b-b4d5-23ba82a979d1"
      },
      "source": [
        "means = [mean(bootstrap_sample(pumpkins)) for x in range(10000)]\n",
        "print(percentile(means, 5), percentile(means, 95))"
      ],
      "execution_count": 70,
      "outputs": [
        {
          "output_type": "stream",
          "text": [
            "1.3333333333333333 296.3333333333333\n"
          ],
          "name": "stdout"
        }
      ]
    }
  ]
}