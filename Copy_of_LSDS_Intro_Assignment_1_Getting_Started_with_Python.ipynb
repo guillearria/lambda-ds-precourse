{
  "nbformat": 4,
  "nbformat_minor": 0,
  "metadata": {
    "colab": {
      "name": "Copy of LSDS Intro Assignment 1 - Getting Started with Python.ipynb",
      "version": "0.3.2",
      "provenance": [],
      "collapsed_sections": [],
      "include_colab_link": true
    },
    "kernelspec": {
      "name": "python3",
      "display_name": "Python 3"
    }
  },
  "cells": [
    {
      "cell_type": "markdown",
      "metadata": {
        "id": "view-in-github",
        "colab_type": "text"
      },
      "source": [
        "<a href=\"https://colab.research.google.com/github/sapinspys/lambda-ds-precourse/blob/master/Copy_of_LSDS_Intro_Assignment_1_Getting_Started_with_Python.ipynb\" target=\"_parent\"><img src=\"https://colab.research.google.com/assets/colab-badge.svg\" alt=\"Open In Colab\"/></a>"
      ]
    },
    {
      "cell_type": "markdown",
      "metadata": {
        "id": "51dZwqDNc9x6",
        "colab_type": "text"
      },
      "source": [
        "# Lambda School Data Science - Getting Started with Python\n",
        "\n",
        "Following are exercises you should complete after watching the first intro lecture. Workflow:\n",
        "\n",
        "1. Sign in to a Google account\n",
        "2. Copy the notebook (`File` -> `Save a copy in Drive`)\n",
        "3. Complete the exercises! This means fill out the code cells, and run them (shift-enter or click the play button that appears when you're in one of them)\n",
        "4. Take a look at your work, and write comments/add text cells as appropriate to explain\n",
        "5. Make the notebook URL viewable and submit with the standup form"
      ]
    },
    {
      "cell_type": "markdown",
      "metadata": {
        "id": "I6biutgwdgpb",
        "colab_type": "text"
      },
      "source": [
        "## Exercise 1 - A bit of Math\n",
        "\n",
        "For these \"word\" problems, use Python to clearly solve them. Your code will \"show your work\" - use good variable names! To show your answers you should write a `print()` statement at the end.\n",
        "\n",
        "As you work, follow the **20 minute rule** - that means if you're stuck on something for 20 minutes, you should ask a question!\n",
        "\n",
        "### a) It's a gas\n",
        "\n",
        "A taxi driver is calculating their profit over two weeks by adding up the fares they charge and subtracting the cost of gas. The price of gas changes over time - it was `$3.52`/gallon the first week and `$3.57`/gallon this second week. Their car gets 20 miles per gallon.\n",
        "\n",
        "For the first week the driver had a total of 23 passengers with average `$29` fare each, and drove a total of 160 miles. For the second week they had 17 passengers with average `$30` fare each, and drove a total of 220 miles. Assume that for both weeks they purchase all the gas needed during that week (i.e. they refuel every week to maintain a constant level of gas in the tank).\n",
        "\n",
        "Based on the above, answer the following questions:\n",
        "\n",
        "- What is their total profit over both weeks?\n",
        "- During which week was their average (mean) profit per passenger higher?\n"
      ]
    },
    {
      "cell_type": "code",
      "metadata": {
        "id": "CWJeYQW6AoGf",
        "colab_type": "code",
        "outputId": "aed9e9e0-1bc8-4997-cf2c-e17688295e19",
        "colab": {
          "base_uri": "https://localhost:8080/",
          "height": 52
        }
      },
      "source": [
        "# Total profit over both weeks:\n",
        "gas_price = [3.52, 3.57]\n",
        "car_mpg = 20\n",
        "miles_driven = [160, 220]\n",
        "total_passengers = [23, 17]\n",
        "avg_fare = [29, 30]\n",
        "profit_week1 = total_passengers[0]*avg_fare[0] - (miles_driven[0]/car_mpg)*gas_price[0]\n",
        "profit_week2 = total_passengers[1]*avg_fare[1] - (miles_driven[1]/car_mpg)*gas_price[1]\n",
        "total_profit = round(profit_week1 + profit_week2, 2)\n",
        "\n",
        "print('Total profit over both weeks: $', total_profit)\n",
        "\n",
        "# Weekly average profit per passenger:\n",
        "profit_per_passenger_week1 = round(profit_week1/total_passengers[0], 2)\n",
        "profit_per_passenger_week2 = round(profit_week2/total_passengers[1], 2)\n",
        "\n",
        "if profit_per_passenger_week1 > profit_per_passenger_week2:\n",
        "  print('Week 1 had a higher average profit per passenger, $', profit_per_passenger_week1, ', than week 2, $', profit_per_passenger_week2)\n",
        "else:\n",
        "  print('Week 2 had a higher average profit per passenger, $', profit_per_passenger_week2, ', than week 1, $', profit_per_passenger_week1)\n",
        "\n"
      ],
      "execution_count": 0,
      "outputs": [
        {
          "output_type": "stream",
          "text": [
            "Total profit over both weeks: $ 1109.57\n",
            "Week 1 had a higher average profit per passenger, $ 27.78 , than week 2, $ 27.69\n"
          ],
          "name": "stdout"
        }
      ]
    },
    {
      "cell_type": "markdown",
      "metadata": {
        "id": "0l4bUPHmR5Ko",
        "colab_type": "text"
      },
      "source": [
        "### b) Mo' money...\n",
        "\n",
        "A cash drawer contains 160 bills, all 10s and 50s. The total value of the 10s and 50s is $1,760.\n",
        "\n",
        "How many of each type of bill are in the drawer? You can figure this out by trial and error (or by doing algebra with pencil and paper), but try to use loops and conditionals to check a plausible possibilities and stop when you find the correct one."
      ]
    },
    {
      "cell_type": "code",
      "metadata": {
        "id": "Q2Atz_kyR8_6",
        "colab_type": "code",
        "outputId": "64d29207-4b21-4ce9-a54c-ff95c0070aff",
        "colab": {
          "base_uri": "https://localhost:8080/",
          "height": 34
        }
      },
      "source": [
        "'''x + y = 160\n",
        "  10x + 50y = 1760\n",
        "  -10x - 10y = -1600\n",
        "  40y = 160\n",
        "  y = 4\n",
        "  x = 156'''\n",
        "\n",
        "total_bills = 160\n",
        "total_cash = 1760\n",
        "\n",
        "for x in range(1, total_bills+1):\n",
        "  total = x*50 + (total_bills-x)*10\n",
        "  \n",
        "  if (total == total_cash):\n",
        "    print('There are', x, '50 dollar bills and', total_bills-4, '10 dollar bills in the drawer!')\n",
        "    break"
      ],
      "execution_count": 0,
      "outputs": [
        {
          "output_type": "stream",
          "text": [
            "There are 4 50 dollar bills and 156 10 dollar bills in the drawer!\n"
          ],
          "name": "stdout"
        }
      ]
    },
    {
      "cell_type": "markdown",
      "metadata": {
        "id": "UCFtX_q9aQlc",
        "colab_type": "text"
      },
      "source": [
        "## Exercise 2 - Drawing a plot\n",
        "\n",
        "Use NumPy and Matplotlib to draw a scatterplot of uniform random `(x, y)` values all drawn from the `[0, 1]` interval. Helpful documentation:\n",
        "\n",
        "*   https://matplotlib.org/tutorials/index.html\n",
        "*   https://docs.scipy.org/doc/numpy/user/quickstart.html\n",
        "\n",
        "Stretch goal - draw more plots! You can refer to the [Matplotlib gallery](https://matplotlib.org/gallery.html) for inspiration, but don't just reproduce something - try to apply it to your own data.\n",
        "\n",
        "How to get data? There's *many* ways, but a good place to get started is with [sklearn.datasets](http://scikit-learn.org/stable/datasets/index.html):\n",
        "\n",
        "```\n",
        "from sklearn import datasets\n",
        "dir(datasets)\n",
        "```"
      ]
    },
    {
      "cell_type": "code",
      "metadata": {
        "id": "pNEb09gMaltL",
        "colab_type": "code",
        "outputId": "15a3fa36-d75d-4992-bedc-d5e3dc5964aa",
        "colab": {
          "base_uri": "https://localhost:8080/",
          "height": 287
        }
      },
      "source": [
        "import matplotlib.pyplot as plt\n",
        "import numpy as np\n",
        "\n",
        "x = np.random.rand(40)\n",
        "y = np.random.rand(40)\n",
        "\n",
        "plt.scatter(x, y)"
      ],
      "execution_count": 0,
      "outputs": [
        {
          "output_type": "execute_result",
          "data": {
            "text/plain": [
              "<matplotlib.collections.PathCollection at 0x7fcfea1c0080>"
            ]
          },
          "metadata": {
            "tags": []
          },
          "execution_count": 32
        },
        {
          "output_type": "display_data",
          "data": {
            "image/png": "[encoded data removed]",
            "text/plain": [
              "<Figure size 432x288 with 1 Axes>"
            ]
          },
          "metadata": {
            "tags": []
          }
        }
      ]
    },
    {
      "cell_type": "code",
      "metadata": {
        "id": "l1weOkONlZR5",
        "colab_type": "code",
        "outputId": "176bcd3c-9c21-4e18-845c-cdb58cea7f05",
        "colab": {
          "base_uri": "https://localhost:8080/",
          "height": 231
        }
      },
      "source": [
        "#Stretch, supervised problem, classification\n",
        "import matplotlib.pyplot as plt\n",
        "import numpy as np\n",
        "# A dataset is a dictionary-like object that holds all the data and some metadata about the data\n",
        "from sklearn import datasets, svm\n",
        "\n",
        "digits = datasets.load_digits()\n",
        "\n",
        "# digits.data now gives access to the FEATURES that can be used to classify the digits SAMPLES (2D ARRAY)\n",
        "# print(digits.data)\n",
        "\n",
        "# digits.target gives the number corresponding to EACH DIGIT IMAGE that we're trying to learn (ground truth)\n",
        "# print(digits.target)\n",
        "\n",
        "# Original samples can be found as an image of shape(8,8) in this case\n",
        "# print(digits.images[1])\n",
        "\n",
        "# We want to predict which digit a given image represents\n",
        "# Let's fit an estimator to be able to predict what class an unseen samples belongs to\n",
        "# Let's use support vector classification (SVC) as the classifier (clf)\n",
        "clf = svm.SVC(gamma=0.001, C=100)\n",
        "\n",
        "# First let's use the fit method to pass in all but the last image of digits (TRAINING/LEARNING)\n",
        "# We reserve the last image for predicting\n",
        "clf.fit(digits.data[:-1], digits.target[:-1]) \n",
        "\n",
        "# Now let's predict \n",
        "print('Last image is:', clf.predict(digits.data[-1:]))\n",
        "\n",
        "plt.figure(1, figsize=(3, 3))\n",
        "plt.imshow((digits.images[-1]), cmap=plt.cm.gray_r, interpolation='nearest')\n",
        "plt.show()\n",
        "\n"
      ],
      "execution_count": 0,
      "outputs": [
        {
          "output_type": "stream",
          "text": [
            "Last image is: [8]\n"
          ],
          "name": "stdout"
        },
        {
          "output_type": "display_data",
          "data": {
            "image/png": "[encoded data removed]",
            "text/plain": [
              "<Figure size 216x216 with 1 Axes>"
            ]
          },
          "metadata": {
            "tags": []
          }
        }
      ]
    },
    {
      "cell_type": "markdown",
      "metadata": {
        "id": "hGpFAslRhuem",
        "colab_type": "text"
      },
      "source": [
        "## Exercise 3 - Writing a function\n",
        "Write a function that, given a list of numbers, calculates the mean, median, and mode of those numbers. Return a dictionary with properties for the mean, median and mode. \n",
        "\n",
        "For example:\n",
        "\n",
        "```\n",
        "mmm_dict = meanMedianMode([1, 2, 6, 7, 8, 9, 3, 4, 5, 10, 10])\n",
        "print(mmm_dict)\n",
        "> {'mean': 5.909090909090909, 'median': 6, 'mode': 10}\n",
        "```\n",
        "\n",
        "There are Python standard libraries that make calculating these numbers very easy, but first try your hand at implementing it using the `reduce()` function:"
      ]
    },
    {
      "cell_type": "code",
      "metadata": {
        "id": "e8dmYzTmiXD_",
        "colab_type": "code",
        "outputId": "585b8e51-6efa-4522-fd66-6e346f75d747",
        "colab": {
          "base_uri": "https://localhost:8080/",
          "height": 225
        }
      },
      "source": [
        "from functools import reduce\n",
        "help(reduce)"
      ],
      "execution_count": 0,
      "outputs": [
        {
          "output_type": "stream",
          "text": [
            "Help on built-in function reduce in module _functools:\n",
            "\n",
            "reduce(...)\n",
            "    reduce(function, sequence[, initial]) -> value\n",
            "    \n",
            "    Apply a function of two arguments cumulatively to the items of a sequence,\n",
            "    from left to right, so as to reduce the sequence to a single value.\n",
            "    For example, reduce(lambda x, y: x+y, [1, 2, 3, 4, 5]) calculates\n",
            "    ((((1+2)+3)+4)+5).  If initial is present, it is placed before the items\n",
            "    of the sequence in the calculation, and serves as a default when the\n",
            "    sequence is empty.\n",
            "\n"
          ],
          "name": "stdout"
        }
      ]
    },
    {
      "cell_type": "code",
      "metadata": {
        "id": "nmkk-CHvh0Nj",
        "colab_type": "code",
        "outputId": "c62602a7-88c2-416d-fc0a-dce3cedd23ee",
        "colab": {
          "base_uri": "https://localhost:8080/",
          "height": 34
        }
      },
      "source": [
        "from functools import reduce\n",
        "\n",
        "def meanMedianMode(numbers):\n",
        "    numbers.sort()\n",
        "    mean = reduce(lambda x, y: x+y, numbers)/len(numbers)\n",
        "    \n",
        "    if len(numbers)%2 == 0:\n",
        "      median = (numbers[(len(numbers)//2)-1] + numbers[((len(numbers)//2)+1)-1])/2  \n",
        "    else:\n",
        "      median_index = (len(numbers)+1)//2\n",
        "      median = numbers[median_index-1]\n",
        "    \n",
        "    counter = {}\n",
        "    for num in numbers:\n",
        "      if num in counter:\n",
        "        counter[num] += 1\n",
        "      else:\n",
        "        counter[num] = 1\n",
        "        \n",
        "    mode = []\n",
        "    max_repeated = max(set(counter.values()))\n",
        "    for key in counter:\n",
        "      if counter[key] == max_repeated:\n",
        "        mode.append(key)\n",
        "        \n",
        "    return {'mean': mean, 'median': median, 'mode': mode}\n",
        "  \n",
        "print(meanMedianMode([1, 2, 6, 7, 8, 9, 3, 4, 5, 10, 10, 8]))"
      ],
      "execution_count": 0,
      "outputs": [
        {
          "output_type": "stream",
          "text": [
            "{'mean': 6.083333333333333, 'median': 6.5, 'mode': [8, 10]}\n"
          ],
          "name": "stdout"
        }
      ]
    }
  ]
}